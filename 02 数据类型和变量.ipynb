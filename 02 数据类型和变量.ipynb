{
 "cells": [
  {
   "cell_type": "markdown",
   "id": "eb3ee6d5",
   "metadata": {},
   "source": [
    "# 数据类型和变量 "
   ]
  },
  {
   "cell_type": "markdown",
   "id": "e58b2b29",
   "metadata": {},
   "source": [
    "在计算机内部可以把数据都看成对象，而变量就是在程序中用来指向这些对象的，对变量赋值就是把数据和变量关联起来。  \n",
    "Python的基本数据类型：`Number`（数字）、`String`（字符串）、  \n",
    "`List`（列表）、`Tuple`（元组）、`Set`（集合）、`Dictionary`（字典）。  "
   ]
  },
  {
   "cell_type": "markdown",
   "id": "5560f810",
   "metadata": {},
   "source": [
    "## Number"
   ]
  },
  {
   "cell_type": "markdown",
   "id": "7cea4127",
   "metadata": {},
   "source": [
    "### 整数（int）  \n",
    "Python可以处理任意大小的整数，包括负整数，表示方法和数学写法一样，例如100、-8080、0。  \n",
    "有时候用十六进制表示比较方便，十六进制用0x前缀和0-9，a-f表示，例如0xff00、0xa5b4c3d2。  \n",
    "Python的整数没有大小限制，而某些语言的整数根据其存储长度是有大小限制的。    \n",
    "Python的浮点数也没有大小限制，但是超出一定范围就直接表示为inf（无限大）。"
   ]
  },
  {
   "cell_type": "markdown",
   "id": "f6ff195e",
   "metadata": {},
   "source": [
    "### 浮点数（float）  \n",
    "小数之所以称为浮点数，是因为用科学记数法表示时，小数点位置是可变的，  \n",
    "比如，1.23 x 10^9 和 12.3 x 10^8是相等的。浮点数可以用数学写法，如3.14、-9.01。  \n",
    "但是很大或很小的浮点数，就必须用科学计数法表示，1.23 x 10^9就是1.23e9或者12.3e8。  \n",
    "整数和浮点数在计算机内部存储方式不同，整数运算永远是精确的（包括除法），而浮点数运算可能会有误差。"
   ]
  },
  {
   "cell_type": "markdown",
   "id": "8f1faced",
   "metadata": {},
   "source": [
    "Python有两种除法，一种是`/`，其计算结果始终是浮点数，即使两个整数恰好整除。  \n",
    "还有一种是`//`，称为地板除，两个整数的地板除永远是整数，即使除不尽。  \n",
    "//除法只取结果的整数部分，所以Python还提供余数运算% ，可以得到两个整数相除的余数。"
   ]
  },
  {
   "cell_type": "code",
   "execution_count": 1,
   "id": "233964bc",
   "metadata": {},
   "outputs": [
    {
     "data": {
      "text/plain": [
       "3.0"
      ]
     },
     "execution_count": 1,
     "metadata": {},
     "output_type": "execute_result"
    }
   ],
   "source": [
    "9 / 3"
   ]
  },
  {
   "cell_type": "code",
   "execution_count": 2,
   "id": "d79ce99c",
   "metadata": {},
   "outputs": [
    {
     "data": {
      "text/plain": [
       "3"
      ]
     },
     "execution_count": 2,
     "metadata": {},
     "output_type": "execute_result"
    }
   ],
   "source": [
    "10 // 3"
   ]
  },
  {
   "cell_type": "code",
   "execution_count": 3,
   "id": "057b0ba9",
   "metadata": {},
   "outputs": [
    {
     "data": {
      "text/plain": [
       "1"
      ]
     },
     "execution_count": 3,
     "metadata": {},
     "output_type": "execute_result"
    }
   ],
   "source": [
    "10 % 3"
   ]
  },
  {
   "cell_type": "markdown",
   "id": "83972151",
   "metadata": {},
   "source": [
    "### 布尔值（bool）  \n",
    "布尔值只有True、False两种值，可以直接用True、False表示布尔值，也可以通过布尔运算计算出来："
   ]
  },
  {
   "cell_type": "code",
   "execution_count": 4,
   "id": "dd8331c3",
   "metadata": {},
   "outputs": [
    {
     "data": {
      "text/plain": [
       "True"
      ]
     },
     "execution_count": 4,
     "metadata": {},
     "output_type": "execute_result"
    }
   ],
   "source": [
    "True"
   ]
  },
  {
   "cell_type": "code",
   "execution_count": 5,
   "id": "b416ec3f",
   "metadata": {},
   "outputs": [
    {
     "data": {
      "text/plain": [
       "False"
      ]
     },
     "execution_count": 5,
     "metadata": {},
     "output_type": "execute_result"
    }
   ],
   "source": [
    "3 > 5"
   ]
  },
  {
   "cell_type": "markdown",
   "id": "cda36eaf",
   "metadata": {},
   "source": [
    "`and`运算是与运算，只有所有项都为True，and运算结果才是True；  \n",
    "`or`运算是或运算，只要其中有一个为True，or运算结果就是True；  \n",
    "`not`运算是非运算，它是单目运算符，把True变成False、False变成True。"
   ]
  },
  {
   "cell_type": "code",
   "execution_count": 6,
   "id": "85d58a62",
   "metadata": {},
   "outputs": [
    {
     "data": {
      "text/plain": [
       "True"
      ]
     },
     "execution_count": 6,
     "metadata": {},
     "output_type": "execute_result"
    }
   ],
   "source": [
    "5 > 3 and 3 > 1"
   ]
  },
  {
   "cell_type": "code",
   "execution_count": 7,
   "id": "8bb0a575",
   "metadata": {},
   "outputs": [
    {
     "data": {
      "text/plain": [
       "True"
      ]
     },
     "execution_count": 7,
     "metadata": {},
     "output_type": "execute_result"
    }
   ],
   "source": [
    "5 > 3 or 1 > 3"
   ]
  },
  {
   "cell_type": "code",
   "execution_count": 8,
   "id": "82dfa818",
   "metadata": {},
   "outputs": [
    {
     "data": {
      "text/plain": [
       "True"
      ]
     },
     "execution_count": 8,
     "metadata": {},
     "output_type": "execute_result"
    }
   ],
   "source": [
    "not 1 > 2"
   ]
  },
  {
   "cell_type": "code",
   "execution_count": null,
   "id": "6eb52f0d",
   "metadata": {},
   "outputs": [],
   "source": [
    "# 布尔值经常用在条件判断中\n",
    "if age >= 18:\n",
    "    print('adult')\n",
    "else:\n",
    "    print('teenager')"
   ]
  },
  {
   "cell_type": "code",
   "execution_count": 9,
   "id": "93e22eff",
   "metadata": {},
   "outputs": [
    {
     "data": {
      "text/plain": [
       "2"
      ]
     },
     "execution_count": 9,
     "metadata": {},
     "output_type": "execute_result"
    }
   ],
   "source": [
    "# bool是int的子类，因此True、False可以和数字相加，语句`True==1`、`False==0`会返回True\n",
    "True+1"
   ]
  },
  {
   "cell_type": "markdown",
   "id": "ed85689d",
   "metadata": {},
   "source": [
    "### 复数（complex）  \n",
    "复数由实数部分和虚数部分构成，可以用`a+bj`或`complex(a,b)`表示，复数的实部a和虚部b都是浮点型。"
   ]
  },
  {
   "cell_type": "markdown",
   "id": "9ecfc3c1",
   "metadata": {},
   "source": [
    "## String"
   ]
  },
  {
   "cell_type": "markdown",
   "id": "f5eca296",
   "metadata": {},
   "source": [
    "字符串是以单引号或双引号括起来的任意文本，例如'abc'，\"xyz\"。  \n",
    "引号本身不是字符串的一部分，如果'也是内部的一个字符，可以用\"\"将其括起来，\n",
    "比如\"I'm OK\"包含的是 I，'，m，空格，O，K这6个字符。  \n",
    "如果字符串内部既包含'又包含\"，则可以用转义字符\\来标识，  \n",
    "比如'I\\'m \\\"OK\\\"!'表示的字符串内容是I'm \"OK\"!。"
   ]
  },
  {
   "cell_type": "code",
   "execution_count": 10,
   "id": "d6306926",
   "metadata": {},
   "outputs": [
    {
     "name": "stdout",
     "output_type": "stream",
     "text": [
      "I'm \"OK\"!\n"
     ]
    }
   ],
   "source": [
    "print('I\\'m \\\"OK\\\"!')  "
   ]
  },
  {
   "cell_type": "markdown",
   "id": "01f2a825",
   "metadata": {},
   "source": [
    "转义字符`\\`可以转义很多字符，比如`\\n`表示换行，`\\t`表示制表符。  \n",
    "字符\\本身也要转义，`\\\\`表示的字符就是\\。  "
   ]
  },
  {
   "cell_type": "code",
   "execution_count": 11,
   "id": "a6434bc8",
   "metadata": {},
   "outputs": [
    {
     "name": "stdout",
     "output_type": "stream",
     "text": [
      "I'm learning\n",
      "Python.\n"
     ]
    }
   ],
   "source": [
    "print('I\\'m learning\\nPython.')"
   ]
  },
  {
   "cell_type": "code",
   "execution_count": 12,
   "id": "fe2c0343",
   "metadata": {},
   "outputs": [
    {
     "name": "stdout",
     "output_type": "stream",
     "text": [
      "\\\n",
      "\\\n"
     ]
    }
   ],
   "source": [
    "print('\\\\\\n\\\\')"
   ]
  },
  {
   "cell_type": "markdown",
   "id": "311d89e5",
   "metadata": {},
   "source": [
    "如果字符串里面有很多字符需要转义，就需要加很多\\。  \n",
    "为了简化，允许用`r' '`表示' '内部的字符串默认不转义。"
   ]
  },
  {
   "cell_type": "code",
   "execution_count": 13,
   "id": "bec3b687",
   "metadata": {},
   "outputs": [
    {
     "name": "stdout",
     "output_type": "stream",
     "text": [
      "\\\t\\\n"
     ]
    }
   ],
   "source": [
    "print('\\\\\\t\\\\')"
   ]
  },
  {
   "cell_type": "code",
   "execution_count": 14,
   "id": "36f19016",
   "metadata": {},
   "outputs": [
    {
     "name": "stdout",
     "output_type": "stream",
     "text": [
      "\\\\\\t\\\\\n"
     ]
    }
   ],
   "source": [
    "print(r'\\\\\\t\\\\')"
   ]
  },
  {
   "cell_type": "markdown",
   "id": "038a08c1",
   "metadata": {},
   "source": [
    "如果字符串内部有很多换行，都用\\n会让代码可读性很差。为了简化，Python允许用`''' '''`的格式表示多行内容：  \n",
    "`print('''line1`  \n",
    "`... line2`  \n",
    "`... line3''')`  \n",
    "上面是在交互式命令行中输入多行内容的情形，提示符由>>>变为...表示可以接着上一行输入，写成程序就是："
   ]
  },
  {
   "cell_type": "code",
   "execution_count": 15,
   "id": "25f0d753",
   "metadata": {},
   "outputs": [
    {
     "name": "stdout",
     "output_type": "stream",
     "text": [
      "line1\n",
      "line2\n",
      "line3\n"
     ]
    }
   ],
   "source": [
    "print('''line1\n",
    "line2\n",
    "line3''')"
   ]
  },
  {
   "cell_type": "markdown",
   "id": "d2941a78",
   "metadata": {},
   "source": [
    "## List"
   ]
  },
  {
   "cell_type": "markdown",
   "id": "b527b338",
   "metadata": {},
   "source": [
    "list是一种有序集合，可以随时添加和删除其中的元素："
   ]
  },
  {
   "cell_type": "code",
   "execution_count": 16,
   "id": "474b4349",
   "metadata": {},
   "outputs": [
    {
     "name": "stdout",
     "output_type": "stream",
     "text": [
      "['Michael', 'Bob', 'Tracy']\n"
     ]
    },
    {
     "data": {
      "text/plain": [
       "3"
      ]
     },
     "execution_count": 16,
     "metadata": {},
     "output_type": "execute_result"
    }
   ],
   "source": [
    "# 变量classmates就是一个list，函数len()可以获得list元素的个数\n",
    "classmates = ['Michael', 'Bob', 'Tracy']\n",
    "print(classmates)\n",
    "len(classmates)"
   ]
  },
  {
   "cell_type": "code",
   "execution_count": 17,
   "id": "9f04111d",
   "metadata": {},
   "outputs": [
    {
     "name": "stdout",
     "output_type": "stream",
     "text": [
      "Sarah\n"
     ]
    }
   ],
   "source": [
    "# 用索引来访问list中的元素，注意索引从0开始，索引越界时会报IndexError错误\n",
    "# 要把某个元素替换成别的元素，可以直接赋值给对应的索引位置\n",
    "classmates[0] = 'Sarah'\n",
    "print(classmates[0])"
   ]
  },
  {
   "cell_type": "markdown",
   "id": "780def74",
   "metadata": {},
   "source": [
    "要取最后一个元素，除了计算索引位置外，还可以用-1做索引来直接获取。  \n",
    "类似可以获取classmate的倒数第2、3个元素，当然，倒数第4个就越界了。"
   ]
  },
  {
   "cell_type": "code",
   "execution_count": 18,
   "id": "44484b59",
   "metadata": {},
   "outputs": [
    {
     "data": {
      "text/plain": [
       "'Tracy'"
      ]
     },
     "execution_count": 18,
     "metadata": {},
     "output_type": "execute_result"
    }
   ],
   "source": [
    "classmates[-1]"
   ]
  },
  {
   "cell_type": "code",
   "execution_count": 19,
   "id": "18a52f59",
   "metadata": {},
   "outputs": [
    {
     "data": {
      "text/plain": [
       "'Sarah'"
      ]
     },
     "execution_count": 19,
     "metadata": {},
     "output_type": "execute_result"
    }
   ],
   "source": [
    "classmates[-3]"
   ]
  },
  {
   "cell_type": "markdown",
   "id": "e41e0fad",
   "metadata": {},
   "source": [
    "`append()`可以往list末尾追加元素；`insert()`可以插入元素到指定位置；`pop()`可以删除指定位置的元素。"
   ]
  },
  {
   "cell_type": "code",
   "execution_count": 20,
   "id": "9e734738",
   "metadata": {},
   "outputs": [
    {
     "name": "stdout",
     "output_type": "stream",
     "text": [
      "['Sarah', 'Bob', 'Tracy', 'Adam']\n",
      "['Sarah', 'Jack', 'Bob', 'Tracy', 'Adam']\n",
      "['Sarah', 'Jack', 'Bob', 'Tracy']\n",
      "['Sarah', 'Bob', 'Tracy']\n"
     ]
    }
   ],
   "source": [
    "classmates.append('Adam')\n",
    "print(classmates) \n",
    "classmates.insert(1, 'Jack') # 第一个参数为指定位置的索引，第二个参数为要插入的元素\n",
    "print(classmates)\n",
    "classmates.pop() # 无参数则删除list末尾的元素\n",
    "print(classmates) \n",
    "classmates.pop(1) # 参数为指定位置的索引\n",
    "print(classmates)"
   ]
  },
  {
   "cell_type": "code",
   "execution_count": 21,
   "id": "9453e2f6",
   "metadata": {},
   "outputs": [
    {
     "data": {
      "text/plain": [
       "4"
      ]
     },
     "execution_count": 21,
     "metadata": {},
     "output_type": "execute_result"
    }
   ],
   "source": [
    "# list的元素的数据类型可以相同也可以不同\n",
    "s = ['asp', 'php']\n",
    "l = ['Apple', 123, ['asp', 'php'], True] # l只有4个元素，其中l[2]是另一个list\n",
    "len(l)\n",
    "# 要拿到'php'可以写s[1]或者l[2][1]，因此L可以看成是一个二维数组"
   ]
  },
  {
   "cell_type": "code",
   "execution_count": 22,
   "id": "33258fd6",
   "metadata": {},
   "outputs": [
    {
     "data": {
      "text/plain": [
       "0"
      ]
     },
     "execution_count": 22,
     "metadata": {},
     "output_type": "execute_result"
    }
   ],
   "source": [
    "# 空list长度为0\n",
    "p= []\n",
    "len(p)"
   ]
  },
  {
   "cell_type": "markdown",
   "id": "f391f6ce",
   "metadata": {},
   "source": [
    "## Tuple"
   ]
  },
  {
   "cell_type": "markdown",
   "id": "2f3e9199",
   "metadata": {},
   "source": [
    "tuple和list相似，但是tuple在定义时就必须确定元素，一旦初始化就不能修改元素。  \n",
    "虽然不能对元组的单个元素进行修改，但事实上完全可以直接对元组重新赋值。"
   ]
  },
  {
   "cell_type": "code",
   "execution_count": 23,
   "id": "50b1886e",
   "metadata": {},
   "outputs": [
    {
     "name": "stdout",
     "output_type": "stream",
     "text": [
      "('优雅的', '明确的', '简单的')\n"
     ]
    }
   ],
   "source": [
    "t = (\"优雅\",\"明确\",\"简单\")\n",
    "t = (\"优雅的\",\"明确的\",\"简单的\")\n",
    "print(t)"
   ]
  },
  {
   "cell_type": "code",
   "execution_count": 24,
   "id": "4ccaa217",
   "metadata": {},
   "outputs": [
    {
     "name": "stdout",
     "output_type": "stream",
     "text": [
      "[1, 2, 3, 3, 4]\n",
      "(1, 2, 3, 4, 5)\n"
     ]
    }
   ],
   "source": [
    "# 二者都是list/二者都是tuple时，可以用运算符+拼接\n",
    "l0 = [1,2,3]\n",
    "l1 = [3,4]\n",
    "l0 = l0 + l1\n",
    "print(l0)\n",
    "t0 = (1,2,3)\n",
    "t1 = (4,5)\n",
    "t0 = t0 + t1\n",
    "print(t0)"
   ]
  },
  {
   "cell_type": "code",
   "execution_count": 25,
   "id": "42622b53",
   "metadata": {},
   "outputs": [
    {
     "data": {
      "text/plain": [
       "'Michael'"
      ]
     },
     "execution_count": 25,
     "metadata": {},
     "output_type": "execute_result"
    }
   ],
   "source": [
    "# tuple获取元素的方法和list是一样的\n",
    "classmates = ('Michael', 'Bob', 'Tracy')\n",
    "classmates[0]"
   ]
  },
  {
   "cell_type": "code",
   "execution_count": 26,
   "id": "6e405dad",
   "metadata": {},
   "outputs": [
    {
     "name": "stdout",
     "output_type": "stream",
     "text": [
      "()\n"
     ]
    }
   ],
   "source": [
    "# 如果要定义一个空tuple，可以直接赋()\n",
    "t = ()\n",
    "print(t)"
   ]
  },
  {
   "cell_type": "markdown",
   "id": "6b4caf86",
   "metadata": {},
   "source": [
    "创建只有一个元素的元组，要在元素后面加逗号，否则括号会被当作运算符使用。"
   ]
  },
  {
   "cell_type": "code",
   "execution_count": 27,
   "id": "eeba6639",
   "metadata": {},
   "outputs": [
    {
     "data": {
      "text/plain": [
       "int"
      ]
     },
     "execution_count": 27,
     "metadata": {},
     "output_type": "execute_result"
    }
   ],
   "source": [
    "t = (50)\n",
    "type(t) # 不加逗号，类型为整型"
   ]
  },
  {
   "cell_type": "code",
   "execution_count": 28,
   "id": "f4ef944f",
   "metadata": {},
   "outputs": [
    {
     "data": {
      "text/plain": [
       "tuple"
      ]
     },
     "execution_count": 28,
     "metadata": {},
     "output_type": "execute_result"
    }
   ],
   "source": [
    "t = (50,)\n",
    "type(t) # 加上逗号，类型为元组"
   ]
  },
  {
   "cell_type": "code",
   "execution_count": 29,
   "id": "79af779c",
   "metadata": {},
   "outputs": [
    {
     "data": {
      "text/plain": [
       "('a', 'b', ['X', 'Y'])"
      ]
     },
     "execution_count": 29,
     "metadata": {},
     "output_type": "execute_result"
    }
   ],
   "source": [
    "# 元组中可以包含可变对象（比如列表），但通常不这样做，因为容易出问题\n",
    "t = ('a', 'b', ['A', 'B'])\n",
    "t[2][0] = 'X'\n",
    "t[2][1] = 'Y'\n",
    "t"
   ]
  },
  {
   "cell_type": "markdown",
   "id": "a3e1d2ae",
   "metadata": {},
   "source": [
    "上例中的tuple定义时有3个元素，分别是'a'，'b'和一个list。  \n",
    "不是说tuple的元素初始化后就不可变了吗？这个例子是怎么回事呢？  \n",
    "表面上tuple的元素变了，其实变的是list的元素，tuple指向的list并没有变成别的对象。  \n",
    "所以tuple所谓的“不变”是说，tuple的每个元素指向不变：  \n",
    "指向'a'就不能改成指向'b'，指向某个list就不能改成指向其他对象。  \n",
    "综上所述，要创建一个内容真正不变的tuple必须保证每一个元素本身也不可变。"
   ]
  },
  {
   "cell_type": "markdown",
   "id": "9db7f2db",
   "metadata": {},
   "source": [
    "## Dict"
   ]
  },
  {
   "cell_type": "markdown",
   "id": "86d64ea7",
   "metadata": {},
   "source": [
    "dict全称dictionary，在其他语言中也称为map，使用`key-value`式存储。  \n",
    "与list相比，dict用空间来换取时间，查找和插入的速度快，耗时不随元素增加而增加，但是需要占用大量的内存。  \n",
    "假设要根据学生名字查找对应成绩，用列表实现需要两个list，用字典实现则只需建立一个“名字-成绩”的对照表："
   ]
  },
  {
   "cell_type": "code",
   "execution_count": 30,
   "id": "0f01f88b",
   "metadata": {},
   "outputs": [
    {
     "data": {
      "text/plain": [
       "95"
      ]
     },
     "execution_count": 30,
     "metadata": {},
     "output_type": "execute_result"
    }
   ],
   "source": [
    "# 下例为创建非空字典，创建空字典可以直接赋{}\n",
    "d = {'Michael': 95, 'Bob': 75, 'Tracy': 85}\n",
    "# 给定一个名字，如'Michael'，dict在内部就可以计算出'Michael'对应成绩95存放的内存地址，所以速度非常快\n",
    "d['Michael']"
   ]
  },
  {
   "cell_type": "code",
   "execution_count": 31,
   "id": "4a372246",
   "metadata": {},
   "outputs": [
    {
     "data": {
      "text/plain": [
       "67"
      ]
     },
     "execution_count": 31,
     "metadata": {},
     "output_type": "execute_result"
    }
   ],
   "source": [
    "# 欲把数据放入dict，除了初始化时指定外，还可以通过key放入\n",
    "d['Adam'] = 67\n",
    "d['Adam']"
   ]
  },
  {
   "cell_type": "markdown",
   "id": "31e5072c",
   "metadata": {},
   "source": [
    "key和value一一对应，多次对一个key放入value，后面的值会把前面的覆盖掉。  \n",
    "此外，dict内部存放的顺序和key放入的顺序没有关系。  \n",
    "如果查找时使用的key不存在，dict会报错。避免报错有两种办法，一是通过`in`判断key是否存在，  \n",
    "二是使用dict提供的`get()`，如果key不存在，将会返回None或者指定值。"
   ]
  },
  {
   "cell_type": "code",
   "execution_count": 32,
   "id": "7d671aff",
   "metadata": {},
   "outputs": [
    {
     "data": {
      "text/plain": [
       "False"
      ]
     },
     "execution_count": 32,
     "metadata": {},
     "output_type": "execute_result"
    }
   ],
   "source": [
    "'Thomas' in d # 使用in判断"
   ]
  },
  {
   "cell_type": "code",
   "execution_count": 33,
   "id": "25301558",
   "metadata": {},
   "outputs": [],
   "source": [
    "# 返回None时Python交互式命令行不显示结果。\n",
    "d.get('Thomas') # dict.get(key)，指定key不存在返回None"
   ]
  },
  {
   "cell_type": "code",
   "execution_count": 34,
   "id": "9c1c7f1f",
   "metadata": {},
   "outputs": [
    {
     "data": {
      "text/plain": [
       "-1"
      ]
     },
     "execution_count": 34,
     "metadata": {},
     "output_type": "execute_result"
    }
   ],
   "source": [
    "d.get('Thomas', -1) # dict.get(key[, value])，指定key不存在返回可选参数value"
   ]
  },
  {
   "cell_type": "code",
   "execution_count": 35,
   "id": "1910019b",
   "metadata": {},
   "outputs": [
    {
     "data": {
      "text/plain": [
       "{'Michael': 95, 'Tracy': 85, 'Adam': 67}"
      ]
     },
     "execution_count": 35,
     "metadata": {},
     "output_type": "execute_result"
    }
   ],
   "source": [
    "# 删除key可以使用pop(key)，对应的value也会从dict中删除\n",
    "d.pop('Bob')\n",
    "d"
   ]
  },
  {
   "cell_type": "markdown",
   "id": "1fa3c07b",
   "metadata": {},
   "source": [
    "dict的key必须是不可变对象，这是因为dict根据key来计算value的存储位置，该算法称为哈希（Hash）。  \n",
    "如果每次相同的key计算的结果不同，dict内部就完全混乱了。要保证hash的正确性，作为key的对象就不能变。  \n",
    "Python中字符串、整数等都是不可变的，可以放心地作为key，而列表等可变的就不能作为key。"
   ]
  },
  {
   "cell_type": "markdown",
   "id": "d8d4d767",
   "metadata": {},
   "source": [
    "## Set"
   ]
  },
  {
   "cell_type": "markdown",
   "id": "a4832685",
   "metadata": {},
   "source": [
    "set原理和dict类似，也存储一组key，但不存储value。与dict一样，set中的key不能重复。  \n",
    "两个可变对象无法判断是否相等，进而无法保证set内部无重复元素，因此set不可以放入可变对象。  \n",
    "可以使用大括号`{}`或者`set()`创建set，创建空集必须用set()，因为直接赋{}是用来创建空字典的。"
   ]
  },
  {
   "cell_type": "code",
   "execution_count": 36,
   "id": "68b895ce",
   "metadata": {},
   "outputs": [
    {
     "name": "stdout",
     "output_type": "stream",
     "text": [
      "{1, 2, 3}\n"
     ]
    }
   ],
   "source": [
    "# 首先演示一下set的自动去重复特性\n",
    "s = {1, 2, 3, 1, 2, 3}\n",
    "print(s)"
   ]
  },
  {
   "cell_type": "code",
   "execution_count": 37,
   "id": "b1d87e8d",
   "metadata": {},
   "outputs": [
    {
     "name": "stdout",
     "output_type": "stream",
     "text": [
      "{1, 2, 3}\n"
     ]
    }
   ],
   "source": [
    "# 用set()建立set要提供一个list作为输入\n",
    "s = set([1, 2, 3]) \n",
    "print(s)\n",
    "# 传入的list有序，但是set无序，打印显示的{1, 2, 3}并不代表这三个元素的顺序"
   ]
  },
  {
   "cell_type": "code",
   "execution_count": 38,
   "id": "1c041124",
   "metadata": {},
   "outputs": [
    {
     "data": {
      "text/plain": [
       "{1, 2, 3, 4}"
      ]
     },
     "execution_count": 38,
     "metadata": {},
     "output_type": "execute_result"
    }
   ],
   "source": [
    "# add(key)可以添加元素到set中，可以重复添加，但不会有效果\n",
    "s.add(4)\n",
    "s"
   ]
  },
  {
   "cell_type": "code",
   "execution_count": 39,
   "id": "f75a79c3",
   "metadata": {},
   "outputs": [
    {
     "data": {
      "text/plain": [
       "{1, 2, 3}"
      ]
     },
     "execution_count": 39,
     "metadata": {},
     "output_type": "execute_result"
    }
   ],
   "source": [
    "# remove(key)可以删除元素\n",
    "s.remove(4)\n",
    "s"
   ]
  },
  {
   "cell_type": "code",
   "execution_count": 40,
   "id": "a07f71f7",
   "metadata": {},
   "outputs": [
    {
     "name": "stdout",
     "output_type": "stream",
     "text": [
      "{2, 3}\n",
      "{1, 2, 3, 4}\n"
     ]
    }
   ],
   "source": [
    "# 两个set的交集运算\n",
    "s1 = set([1, 2, 3])\n",
    "s2 = set([2, 3, 4])\n",
    "print(s1&s2)\n",
    "print(s1|s2)"
   ]
  },
  {
   "cell_type": "markdown",
   "id": "8a5f194b",
   "metadata": {},
   "source": [
    "## 再议不可变对象"
   ]
  },
  {
   "cell_type": "markdown",
   "id": "e3d71224",
   "metadata": {},
   "source": [
    "对于不可变对象，调用对象自身的任意方法，不会改变该对象自身的内容。  \n",
    "因为这些方法会创建新的对象并返回，比如对字符串`a1 = 'abc'`，a1是变量，'abc'才是字符串对象。   \n",
    "令`a2 = a1.replace('a', 'A')`，打印a1得到'abc'，而打印a2则得到'Abc'。"
   ]
  },
  {
   "cell_type": "markdown",
   "id": "79f4ee38",
   "metadata": {},
   "source": [
    "## 空值  "
   ]
  },
  {
   "cell_type": "markdown",
   "id": "333bfecc",
   "metadata": {},
   "source": [
    "Python有一个特殊常量`None`，表示空值。None不能理解为0，因为0是一个有意义的具体值。  \n",
    "None属于`NoneType`类型，也是该数据类型的唯一值（其他语言可能称这个值为null、nil或undefined）。  \n",
    "因此，我们不能再创建其它NoneType类型的变量，但可以将None赋值给任何变量。"
   ]
  },
  {
   "cell_type": "markdown",
   "id": "2ccd346e",
   "metadata": {},
   "source": [
    "## 变量"
   ]
  },
  {
   "cell_type": "markdown",
   "id": "2e4850a4",
   "metadata": {},
   "source": [
    "变量在程序中用一个变量名表示，变量名必须是大小写英文、数字和_的组合，且不能用数字开头。  \n",
    "在Python中，等号`=`是赋值语句，Python中变量赋值时会自动设置数据类型，不需要声明，例如："
   ]
  },
  {
   "cell_type": "code",
   "execution_count": null,
   "id": "1ceba87c",
   "metadata": {},
   "outputs": [],
   "source": [
    "a = 123 # a是整数\n",
    "a = 'ABC' # a变为字符串"
   ]
  },
  {
   "cell_type": "markdown",
   "id": "8b55d998",
   "metadata": {},
   "source": [
    "可以使用`type()`函数获取变量的数据类型："
   ]
  },
  {
   "cell_type": "code",
   "execution_count": 41,
   "id": "ae2697f3",
   "metadata": {},
   "outputs": [
    {
     "name": "stdout",
     "output_type": "stream",
     "text": [
      "<class 'float'>\n"
     ]
    }
   ],
   "source": [
    "x = 29.5\n",
    "print(type(x))"
   ]
  },
  {
   "cell_type": "markdown",
   "id": "8afc4dc4",
   "metadata": {},
   "source": [
    "Python这样变量类型不固定的语言称之为动态语言，与之对应的是静态语言。  \n",
    "静态语言在定义变量时必须指定变量类型，如果赋值的时候类型不匹配会报错。  \n",
    "例如Java是静态语言，赋值语句如下（Java中//表示单行注释）："
   ]
  },
  {
   "cell_type": "code",
   "execution_count": null,
   "id": "0b37bb7c",
   "metadata": {},
   "outputs": [],
   "source": [
    "int a = 123; // 定义了a为int型变量\n",
    "a = \"ABC\"; // 出现错误，不能把字符串赋给整型变量"
   ]
  },
  {
   "cell_type": "code",
   "execution_count": 42,
   "id": "35c68a4b",
   "metadata": {},
   "outputs": [
    {
     "name": "stdout",
     "output_type": "stream",
     "text": [
      "12\n"
     ]
    }
   ],
   "source": [
    "x = 10\n",
    "# 不要把赋值语句的等号等同于数学意义\n",
    "# 赋值语句先计算右侧表达式x+2得到12，再赋给变量x\n",
    "x = x + 2\n",
    "print(x)"
   ]
  },
  {
   "cell_type": "code",
   "execution_count": null,
   "id": "2440446e",
   "metadata": {},
   "outputs": [],
   "source": [
    "# Python允许在一行中为多个变量赋值\n",
    "x, y, z = 'Orange', 'Banana', 'Cherry'\n",
    "a = b = c = 'Apple'"
   ]
  },
  {
   "cell_type": "markdown",
   "id": "8ed903e5",
   "metadata": {},
   "source": [
    "理解变量在计算机内存中的表示也非常重要。执行语句`a = 'ABC'`时，  \n",
    "解释器在内存中创建了一个字符串'ABC'和一个变量名为a的变量，并把它指向'ABC'。  \n",
    "把一个变量a赋值给另一个变量b，这个操作实际上是把变量b指向变量a所指向的数据。"
   ]
  },
  {
   "cell_type": "code",
   "execution_count": 43,
   "id": "b5e58585",
   "metadata": {},
   "outputs": [
    {
     "name": "stdout",
     "output_type": "stream",
     "text": [
      "ABC\n"
     ]
    }
   ],
   "source": [
    "a = 'ABC'\n",
    "b = a\n",
    "a = 'XYZ'\n",
    "print(b)"
   ]
  },
  {
   "cell_type": "markdown",
   "id": "953df6f9",
   "metadata": {},
   "source": [
    "## 全局变量"
   ]
  },
  {
   "cell_type": "markdown",
   "id": "cb1ff801",
   "metadata": {},
   "source": [
    "在函数外部创建的变量称为全局变量，全局变量可以在函数内部或外部中使用。  \n",
    "在函数内部创建一个与已有全局变量相同名称的变量，该变量将会是局部变量，  \n",
    "局部只能在函数内部使用，同名的全局变量则保持不变。"
   ]
  },
  {
   "cell_type": "code",
   "execution_count": 44,
   "id": "fd39c31c",
   "metadata": {},
   "outputs": [
    {
     "name": "stdout",
     "output_type": "stream",
     "text": [
      "Python is fantastic\n",
      "Python is awesome\n"
     ]
    }
   ],
   "source": [
    "x = 'awesome'\n",
    "def myfunc():\n",
    "    x = 'fantastic'\n",
    "    print('Python is ' + x)\n",
    "myfunc()\n",
    "print('Python is ' + x)"
   ]
  },
  {
   "cell_type": "markdown",
   "id": "62911da9",
   "metadata": {},
   "source": [
    "如欲在函数内部创建全局变量，或是在函数内部更改全局变量，可以使用`global`关键字："
   ]
  },
  {
   "cell_type": "code",
   "execution_count": 45,
   "id": "b88782bf",
   "metadata": {},
   "outputs": [
    {
     "name": "stdout",
     "output_type": "stream",
     "text": [
      "Python is fantastic\n"
     ]
    }
   ],
   "source": [
    "def myfunc():\n",
    "    global x\n",
    "    x = 'fantastic'\n",
    "myfunc()\n",
    "print('Python is ' + x)"
   ]
  },
  {
   "cell_type": "code",
   "execution_count": 46,
   "id": "d6794951",
   "metadata": {},
   "outputs": [
    {
     "name": "stdout",
     "output_type": "stream",
     "text": [
      "Python is fantastic\n"
     ]
    }
   ],
   "source": [
    "x = 'awesome'\n",
    "def myfunc():\n",
    "    global x\n",
    "    x = 'fantastic'\n",
    "myfunc()\n",
    "print('Python is ' + x)"
   ]
  },
  {
   "cell_type": "markdown",
   "id": "218a8b87",
   "metadata": {},
   "source": [
    "## 常量"
   ]
  },
  {
   "cell_type": "markdown",
   "id": "00851c1f",
   "metadata": {},
   "source": [
    "所谓常量就是不能变的变量，通常用全部大写的变量名表示常量，例如π表示为PI=3.14159265359。  \n",
    "事实上PI仍然是一个变量，Python语法并没有任何机制保证PI不会被改变，  \n",
    "用全部大写的变量名表示常量只是一个习惯用法，如果一定要改变变量PI的值是可行的。"
   ]
  }
 ],
 "metadata": {
  "kernelspec": {
   "display_name": "Python 3 (ipykernel)",
   "language": "python",
   "name": "python3"
  },
  "language_info": {
   "codemirror_mode": {
    "name": "ipython",
    "version": 3
   },
   "file_extension": ".py",
   "mimetype": "text/x-python",
   "name": "python",
   "nbconvert_exporter": "python",
   "pygments_lexer": "ipython3",
   "version": "3.10.0"
  }
 },
 "nbformat": 4,
 "nbformat_minor": 5
}
