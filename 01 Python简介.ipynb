{
 "cells": [
  {
   "cell_type": "markdown",
   "metadata": {},
   "source": [
    "本笔记只涵盖Python的最基本使用，未涉及`网络编程`、`异步IO`、`GUI编程`、`正则表达式`、`函数式编程`等高级知识。"
   ]
  },
  {
   "cell_type": "markdown",
   "metadata": {},
   "source": [
    "# Python简介"
   ]
  },
  {
   "cell_type": "markdown",
   "metadata": {},
   "source": [
    "## Python的历史"
   ]
  },
  {
   "cell_type": "markdown",
   "metadata": {},
   "source": [
    "Python创始人为荷兰人Guido van Rossum，1989年圣诞节期间，吉多决心开发一个新的脚本解释程序作为ABC语言的继承。    \n",
    "1991年，第一个Python编译器诞生。它是用C语言实现的，并能够调用C语言的库文件。  \n",
    "Python 2.0于2000年10月16日发布，实现了完整的垃圾回收，并且支持Unicode。  \n",
    "Python 3.0于2008年12月3日发布，此版不完全兼容之前的代码，但很多新特性后来也被移植到旧的Python 2.6/2.7版本。"
   ]
  },
  {
   "cell_type": "markdown",
   "metadata": {},
   "source": [
    "## Python编程的利弊"
   ]
  },
  {
   "cell_type": "markdown",
   "metadata": {},
   "source": [
    "Python提供了完善的基础代码库，覆盖了网络、文件、GUI、数据库、文本等大量内容，用 Python 开发，许多功能不必从零编写。    \n",
    "除了内置的库外，Python还有大量的第三方库，如果你开发的代码通过很好的封装，也可以作为第三方库给别人使用。  \n",
    "此外，Python内置有一套异常处理机制，主要依赖`try`、`except`、`else`、`finally`和`raise`五个关键字。"
   ]
  },
  {
   "cell_type": "markdown",
   "metadata": {},
   "source": [
    "任何编程语言都有缺点，Python也不例外，第一个缺点就是运行速度慢。  \n",
    "Python是解释型语言，代码执行时会逐行地翻译成CPU能理解的机器码，  \n",
    "而C程序运行前直接编译成CPU能执行的机器码，所以运行速度非常快。  \n",
    "但是很多应用程序不需要这么快的运行速度，因为用户根本感觉不出来。  \n",
    "例如开发一个下载MP3的应用，C程序运行要0.001秒，而Python程序运行要0.1秒，  \n",
    "由于网络时延需要等待1秒，用户能感觉到1.001秒和1.1秒的区别吗？"
   ]
  },
  {
   "cell_type": "markdown",
   "metadata": {},
   "source": [
    "第二个缺点是代码不能加密。如果要发布你的Python程序，实际上就是发布源码。  \n",
    "C语言不用发布源代码，只需要把编译后的机器码（例如Windows的.exe文件）发布出去，  \n",
    "从机器码反推C代码是不可能的，凡是编译型的语言都没有这个问题，而解释型语言必须发布源码。"
   ]
  },
  {
   "cell_type": "markdown",
   "metadata": {},
   "source": [
    "## 初识Pythonic "
   ]
  },
  {
   "cell_type": "markdown",
   "metadata": {},
   "source": [
    "Python语法比较简单，采用缩进方式，当语句以冒号`:`结尾时，缩进的语句视为代码块。  \n",
    "Python没有规定缩进是几个空格，按照约定俗成的惯例，应该坚持使用4个空格的缩进。  \n",
    "在文本编辑器中，需要预先设置使得Tab自动转换为4个空格，确保不混用Tab和空格。"
   ]
  },
  {
   "cell_type": "code",
   "execution_count": null,
   "metadata": {},
   "outputs": [],
   "source": [
    "# print absolute value of an integer:\n",
    "a = 100\n",
    "if a >= 0:\n",
    "    print(a)\n",
    "else:\n",
    "    print(-a)"
   ]
  },
  {
   "cell_type": "markdown",
   "metadata": {},
   "source": [
    "Python重构代码时，粘贴过去的代码必须重新检查缩进是否正确，  \n",
    "Python IDE也很难像格式化Java代码那样格式化Python代码。  \n",
    "注意Python程序是大小写敏感的，如果写错了大小写，程序会报错。"
   ]
  },
  {
   "cell_type": "markdown",
   "metadata": {},
   "source": [
    "## Python解释器"
   ]
  },
  {
   "cell_type": "markdown",
   "metadata": {},
   "source": [
    "编写Python代码时，我们得到的是以.py为扩展名的文本文件，运行代码需要Python解释器去执行.py文件。  \n",
    "Python从规范到解释器都是开源的，所以理论上任何人都可以编写Python解释器，事实上也确有多种Python解释器。"
   ]
  },
  {
   "cell_type": "markdown",
   "metadata": {},
   "source": [
    "官方版本的解释器`CPython`是用C语言开发的，在命令行下运行`python`就是启动CPython解释器。  \n",
    "`IPython`是基于CPython的交互式解释器，只是在交互方式上有所增强，执行代码的功能和CPython是一样的。  \n",
    "CPython用>>>作为提示符，而IPython用In[序号]:作为提示符。  \n",
    "Python解释器很多，但使用最广泛的还是CPython。如果要和Java或.Net平台交互，  \n",
    "最好的办法不是用`Jython`或`IronPython`，而是通过网络调用来交互，确保各程序之间的独立性。"
   ]
  },
  {
   "cell_type": "markdown",
   "metadata": {},
   "source": [
    "## 命令行与交互模式"
   ]
  },
  {
   "cell_type": "markdown",
   "metadata": {},
   "source": [
    "命令行下输入命令`python`即可进入交互模式，再输入命令`exit()`就退出了交互模式。  \n",
    "在Python交互式命令行下，可以直接输入Python代码执行，并立刻得到结果。"
   ]
  },
  {
   "cell_type": "code",
   "execution_count": 1,
   "metadata": {},
   "outputs": [
    {
     "name": "stdout",
     "output_type": "stream",
     "text": [
      "hello, world\n"
     ]
    }
   ],
   "source": [
    "print('hello, world')"
   ]
  },
  {
   "cell_type": "markdown",
   "metadata": {},
   "source": [
    "在Python交互式模式下写程序没法保存，所以实际开发的时候，我们总是使用一个文本编辑器来写代码。  \n",
    "不能用Windows自带的记事本，记事本会在文件开始处加上几个特殊字符（UTF-8 BOM），导致程序运行出现错误。  \n",
    "在文本编辑器中写好代码后，选择一个目录，例如C:\\work，把文件保存为hello.py，  \n",
    "再打开命令行，用cd命令把当前目录切换到hello.py所在目录，就可以运行这个程序了。"
   ]
  },
  {
   "cell_type": "markdown",
   "metadata": {},
   "source": [
    "此外，在命令行下运行.py文件和在Python交互模式下直接运行Python代码有所不同。  \n",
    "Python交互模式会把每一行代码的结果自动打印出来，直接运行Python代码则不会。  \n",
    "例如，在Python交互环境下，输入：  \n",
    "`>>> 100 + 200 + 300`  \n",
    "`600`  \n",
    "直接可以看到结果600。但是写一个calc.py的文件，内容同样是100+200+300，并在命令行下执行：  \n",
    "`C:\\work>python calc.py`    \n",
    "会发现什么输出都没有，想要输出结果，必须自己用print()打印出来。"
   ]
  },
  {
   "cell_type": "markdown",
   "metadata": {},
   "source": [
    "## 简单的输入和输出"
   ]
  },
  {
   "cell_type": "markdown",
   "metadata": {},
   "source": [
    "`print()`函数的括号中加上字符串，可以打印指定的文字，比如输出'hello, world'。  \n",
    "print()也可以接受多个字符串，此时会依次打印每个字符串，遇到逗号`,`则输出一个空格：  "
   ]
  },
  {
   "cell_type": "code",
   "execution_count": 2,
   "metadata": {},
   "outputs": [
    {
     "name": "stdout",
     "output_type": "stream",
     "text": [
      "The swift fox jumps over the lazy dog\n"
     ]
    }
   ],
   "source": [
    "print('The swift fox', 'jumps over', 'the lazy dog')"
   ]
  },
  {
   "cell_type": "code",
   "execution_count": 3,
   "metadata": {},
   "outputs": [
    {
     "name": "stdout",
     "output_type": "stream",
     "text": [
      "300\n",
      "100 + 200 = 300\n"
     ]
    }
   ],
   "source": [
    "# print()也可以打印整数或计算结果\n",
    "print(300)\n",
    "print('100 + 200 =', 100 + 200)"
   ]
  },
  {
   "cell_type": "code",
   "execution_count": 4,
   "metadata": {},
   "outputs": [
    {
     "name": "stdout",
     "output_type": "stream",
     "text": [
      " Michael\n"
     ]
    },
    {
     "data": {
      "text/plain": [
       "'Michael'"
      ]
     },
     "execution_count": 4,
     "metadata": {},
     "output_type": "execute_result"
    }
   ],
   "source": [
    "# input()可以把用户输入存放到一个变量里\n",
    "name = input()\n",
    "'''\n",
    "按下回车后，交互式命令行就在等待输入了，这里输入'Michael'。\n",
    "输入完成后不会有任何提示，交互式命令行又会回到>>>状态。\n",
    "输入的内容存放到了name变量中，可以直接输入name查看变量内容。\n",
    "'''\n",
    "name"
   ]
  },
  {
   "cell_type": "code",
   "execution_count": 5,
   "metadata": {},
   "outputs": [
    {
     "name": "stdout",
     "output_type": "stream",
     "text": [
      " Michael\n"
     ]
    },
    {
     "name": "stdout",
     "output_type": "stream",
     "text": [
      "hello, Michael\n"
     ]
    }
   ],
   "source": [
    "name = input()\n",
    "print('hello,', name)"
   ]
  },
  {
   "cell_type": "markdown",
   "metadata": {},
   "source": [
    "上面的程序会让用户输入任意字符串作为自己的名字，然后根据用户名向用户说hello。  \n",
    "但是程序运行时没有提示用户进行输入名字的操作，这样的程序对用户显然不太友好。  \n",
    "事实上，`input()`可以显示一个字符串来提示用户，于是可以把代码修改为："
   ]
  },
  {
   "cell_type": "code",
   "execution_count": 6,
   "metadata": {},
   "outputs": [
    {
     "name": "stdout",
     "output_type": "stream",
     "text": [
      "please enter your name:  Michael\n"
     ]
    },
    {
     "name": "stdout",
     "output_type": "stream",
     "text": [
      "hello, Michael\n"
     ]
    }
   ],
   "source": [
    "name = input('please enter your name: ')\n",
    "print('hello,', name)"
   ]
  }
 ],
 "metadata": {
  "kernelspec": {
   "display_name": "Python 3 (ipykernel)",
   "language": "python",
   "name": "python3"
  },
  "language_info": {
   "codemirror_mode": {
    "name": "ipython",
    "version": 3
   },
   "file_extension": ".py",
   "mimetype": "text/x-python",
   "name": "python",
   "nbconvert_exporter": "python",
   "pygments_lexer": "ipython3",
   "version": "3.9.12"
  }
 },
 "nbformat": 4,
 "nbformat_minor": 4
}
