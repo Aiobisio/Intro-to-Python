{
 "cells": [
  {
   "cell_type": "markdown",
   "id": "a3e7f446",
   "metadata": {},
   "source": [
    "# 面向对象编程"
   ]
  },
  {
   "cell_type": "markdown",
   "id": "f173b2de",
   "metadata": {},
   "source": [
    "面向过程编程、函数式编程和面向对象编程（OOP）是不同的编程范式。  \n",
    "OOP把一组数据结构和处理它们的方法称为对象（object），把相同行为的对象归为类（class），对象是类的实例。  \n",
    "OOP通过类的`封装`隐藏内部细节，通过`继承`实现类的特化和泛化，通过`多态`实现基于对象类型的动态分派。  "
   ]
  },
  {
   "cell_type": "markdown",
   "id": "417ed18d",
   "metadata": {},
   "source": [
    "## 定义类"
   ]
  },
  {
   "cell_type": "markdown",
   "id": "75766a0c",
   "metadata": {},
   "source": [
    "使用`class`关键字定义类，然后在类中定义方法（method），这样就可以将对象的动态特征描述出来："
   ]
  },
  {
   "cell_type": "code",
   "execution_count": 1,
   "id": "709adbaf",
   "metadata": {},
   "outputs": [],
   "source": [
    "'''\n",
    "类名通常是大写开头的单词，紧接着的(object)，表示该类是从哪个类继承下来的，\n",
    "没有合适的继承类时就使用object类，这是所有类最终都会继承的类。\n",
    "'''\n",
    "class Student(object):\n",
    "# __init__是一个特殊方法，用于在创建对象时进行初始化操作，可以给对象绑定属性\n",
    "    def __init__(self, name, age):\n",
    "        self.name = name\n",
    "        self.age = age\n",
    "# 写在类中的函数称之为（对象的）方法，这些方法就是对象可以接收的消息\n",
    "# PEP 8要求标识符的名字全小写，多个单词用下划线连接，但程序员更倾向于驼峰命名法\n",
    "    def print_score(self):\n",
    "        print('%s: %s' % (self.name, self.age))"
   ]
  },
  {
   "cell_type": "markdown",
   "id": "52fdb29e",
   "metadata": {},
   "source": [
    "## 创建和使用对象"
   ]
  },
  {
   "cell_type": "code",
   "execution_count": 2,
   "id": "ef4d4331",
   "metadata": {},
   "outputs": [
    {
     "name": "stdout",
     "output_type": "stream",
     "text": [
      "Marin: 21\n"
     ]
    }
   ],
   "source": [
    "def main():\n",
    "# 创建学生对象的实例并指定其属性\n",
    "    stu = Student('Marin', 21)\n",
    "# 给对象发print_score消息\n",
    "    stu.print_score()\n",
    "if __name__ == '__main__':\n",
    "    main()"
   ]
  },
  {
   "cell_type": "markdown",
   "id": "1e4a64b7",
   "metadata": {},
   "source": [
    "## 访问权限问题"
   ]
  },
  {
   "cell_type": "markdown",
   "id": "c81b27ee",
   "metadata": {},
   "source": [
    "上面的代码中，给Student类对象绑定的name和age属性到底具有怎样的访问权限（也称为可见性）？  \n",
    "在很多面向对象编程语言中，常会将对象的属性设置为私有的（private）或受保护的（protected），  \n",
    "简单地说就是不允许外界访问，而对象的方法通常是公开的（public）。  \n",
    "Python中访问权限只有公开和私有两种，若希望属性或方法私有，可以在命名时用两个下划线开头。"
   ]
  },
  {
   "cell_type": "code",
   "execution_count": null,
   "id": "b5515dec",
   "metadata": {},
   "outputs": [],
   "source": [
    "class Test:\n",
    "    def __init__(self, name):\n",
    "        self.__name = name\n",
    "    def __print(self):\n",
    "        print(self.__name)\n",
    "def main():\n",
    "    test = Test('Marin')\n",
    "# AttributeError: 'Test' object has no attribute '__name'\n",
    "    test.__print()\n",
    "# AttributeError: 'Test' object has no attribute '__print'\n",
    "    print(test.__name)\n",
    "if __name__ == \"__main__\":\n",
    "    main()"
   ]
  },
  {
   "cell_type": "markdown",
   "id": "aa2dfdb8",
   "metadata": {},
   "source": [
    "Python没有从语法上严格保证私有属性或方法的私密性，只进行了换名以妨碍访问，  \n",
    "若知道换名规则仍然可以访问它们，之所以这样设定，是因为“开放比封闭要好”。"
   ]
  },
  {
   "cell_type": "code",
   "execution_count": 3,
   "id": "545b2b69",
   "metadata": {},
   "outputs": [
    {
     "name": "stdout",
     "output_type": "stream",
     "text": [
      "Marin\n",
      "Marin\n"
     ]
    }
   ],
   "source": [
    "class Test:\n",
    "    def __init__(self, name):\n",
    "        self.__name = name\n",
    "    def __print(self):\n",
    "        print(self.__name)\n",
    "def main():\n",
    "    test = Test('Marin')\n",
    "    test._Test__print()\n",
    "    print(test._Test__name)\n",
    "if __name__ == \"__main__\":\n",
    "    main()"
   ]
  },
  {
   "cell_type": "markdown",
   "id": "f364fda6",
   "metadata": {},
   "source": [
    "实际开发中不建议将属性设置为私有的，因为这会导致子类无法访问。  \n",
    "多数程序员会让属性名以单下划线开头来表示该属性是受保护的，  \n",
    "这种做法并不基于语法规则，只是隐喻本类之外的代码在访问该属性时要保持慎重。"
   ]
  },
  {
   "cell_type": "markdown",
   "id": "691e1414",
   "metadata": {},
   "source": [
    "这里简单总结一下封装，个人对封装的理解是，隐藏一切可隐藏的实现细节，只向外界提供简单的编程接口。  \n",
    "在类中定义的方法其实就是把数据和对数据的操作封装起来，创建对象后只需调用方法就能执行方法中的代码，  \n",
    "因此只要知道方法名和传入的参数（方法的外部视图），而不需要知道方法内部的实现细节（方法的内部视图）。"
   ]
  },
  {
   "cell_type": "markdown",
   "id": "72597822",
   "metadata": {},
   "source": [
    "## @property装饰器"
   ]
  },
  {
   "cell_type": "markdown",
   "id": "1c658247",
   "metadata": {},
   "source": [
    "上文建议过将属性命名以单下划线开头，通过这种方式来暗示属性是受保护的，不建议外界直接访问，  \n",
    "可以通过`@property`装饰器访问保护属性，@property装饰器修饰的方法相当于属性的`getter（）`。  \n",
    "如果想修改属性的值或者删除指定属性，则要用到`setter`装饰器和`deleter`装饰器。"
   ]
  },
  {
   "cell_type": "code",
   "execution_count": 4,
   "id": "ee2af2bf",
   "metadata": {},
   "outputs": [
    {
     "name": "stdout",
     "output_type": "stream",
     "text": [
      "Marin正在下棋\n",
      "Arthur正在打牌\n"
     ]
    }
   ],
   "source": [
    "class Person(object):\n",
    "    def __init__(self, name, age):\n",
    "        self._name = name\n",
    "        self._age = age\n",
    "# @property装饰器\n",
    "    @property\n",
    "    def name(self):\n",
    "        return self._name\n",
    "    @property\n",
    "    def age(self):\n",
    "        return self._age\n",
    "# setter装饰器\n",
    "    @name.setter\n",
    "    def name(self, name):\n",
    "        self._name = name\n",
    "    @age.setter\n",
    "    def age(self, age):\n",
    "        self._age = age\n",
    "# 这里写一个play（）\n",
    "    def play(self):\n",
    "        if self._age <= 18:\n",
    "            print('%s正在下棋' % self._name)\n",
    "        else:\n",
    "            print('%s正在打牌' % self._name)\n",
    "def main():\n",
    "    person = Person('Marin', 14)\n",
    "    person.play()\n",
    "    person.name = 'Arthur'\n",
    "    person.age = 22\n",
    "    person.play()\n",
    "if __name__ == '__main__':\n",
    "    main()"
   ]
  },
  {
   "cell_type": "markdown",
   "id": "16ed7ae2",
   "metadata": {},
   "source": [
    "## \\_\\_slots\\_\\_魔法"
   ]
  },
  {
   "cell_type": "markdown",
   "id": "72d79dc9",
   "metadata": {},
   "source": [
    "Python是动态语言，允许在程序运行时给对象绑定新的属性或方法，也可以对已绑定的属性和方法解绑。  \n",
    "如果要限定自定义类型的对象只能绑定某些属性，可以在类中定义`__slots__`变量。  \n",
    "需要注意__slots__的限定作用只对当前类的对象生效，对子类不起作用。"
   ]
  },
  {
   "cell_type": "code",
   "execution_count": null,
   "id": "9a6e1a76",
   "metadata": {},
   "outputs": [],
   "source": [
    "class Person(object):\n",
    "# 限定Person类对象只能绑定_name, _age和_gender属性\n",
    "    __slots__ = ('_name', '_age', '_gender')\n",
    "    def __init__(self, name, age):\n",
    "        self._name = name\n",
    "        self._age = age\n",
    "def main():\n",
    "    person = Person('Marin', 14)\n",
    "    person._gender = 'Male'\n",
    "# AttributeError: 'Person' object has no attribute '_shape'\n",
    "    person._shape = 'overweight'\n",
    "if __name__ == '__main__':\n",
    "    main()"
   ]
  },
  {
   "cell_type": "markdown",
   "id": "22b30a72",
   "metadata": {},
   "source": [
    "## 静态方法和类方法"
   ]
  },
  {
   "cell_type": "markdown",
   "id": "093f0235",
   "metadata": {},
   "source": [
    "写在类中的方法并不需要都是实例方法，例如定义一个Triangle类，通过传入三条边长来构造三角形，  \n",
    "并提供计算周长和面积的方法。由于传入的三条边长未必能构成三角形，可以先写一个方法验证。  \n",
    "这个方法显然不是实例方法，因为在调用它时对象尚未创建，可以用静态方法来解决这类问题。  \n",
    "实例方法通过给对象发消息调用，而静态方法和类方法都是通过给类发消息来调用的。"
   ]
  },
  {
   "cell_type": "code",
   "execution_count": 5,
   "id": "3c72255f",
   "metadata": {},
   "outputs": [
    {
     "name": "stdout",
     "output_type": "stream",
     "text": [
      "12\n",
      "6.0\n"
     ]
    }
   ],
   "source": [
    "from math import sqrt\n",
    "class Triangle(object):\n",
    "    def __init__(self, a, b, c):\n",
    "        self._a = a\n",
    "        self._b = b\n",
    "        self._c = c\n",
    "# 静态方法要用修饰器@staticmethod来标识\n",
    "    @staticmethod\n",
    "    def is_valid(a, b, c):\n",
    "        return a + b > c and b + c > a and a + c > b\n",
    "# 实例方法\n",
    "    def perimeter(self):\n",
    "        return self._a + self._b + self._c\n",
    "    def area(self):\n",
    "        half = self.perimeter() / 2\n",
    "        return sqrt(half * (half - self._a) *\n",
    "                    (half - self._b) * (half - self._c))\n",
    "def main():\n",
    "    a, b, c = 3, 4, 5\n",
    "    if Triangle.is_valid(a, b, c):\n",
    "        t = Triangle(a, b, c)\n",
    "        print(t.perimeter())\n",
    "        print(t.area())\n",
    "# 事实上，同样可以通过给类发消息来调用实例方法，但是要求传入接收消息的对象作为参数\n",
    "# print(Triangle.perimeter(t))\n",
    "# print(Triangle.area(t))\n",
    "    else:\n",
    "        print('无法构成三角形')\n",
    "if __name__ == '__main__':\n",
    "    main()"
   ]
  },
  {
   "cell_type": "markdown",
   "id": "c1ff2e36",
   "metadata": {},
   "source": [
    "实例方法一般用`self`作为第一个参数，类方法中默认使用的第一个参数则是`cls`，cls代表类本身  \n",
    "（类本身也是对象，又称类的元数据对象），可以用cls来实例化一个对象，而self则是类的一个实例对象。 "
   ]
  },
  {
   "cell_type": "code",
   "execution_count": 6,
   "id": "874e97cd",
   "metadata": {},
   "outputs": [
    {
     "name": "stdout",
     "output_type": "stream",
     "text": [
      "20:17:56\n"
     ]
    }
   ],
   "source": [
    "from time import time, localtime, sleep\n",
    "class Clock(object):\n",
    "    def __init__(self, hour=0, minute=0, second=0):\n",
    "        self._hour = hour\n",
    "        self._minute = minute\n",
    "        self._second = second\n",
    "# 类方法要用修饰器@classmethod来标识\n",
    "    @classmethod\n",
    "    def now(cls):\n",
    "        ctime = localtime(time())\n",
    "        return cls(ctime.tm_hour, ctime.tm_min, ctime.tm_sec)\n",
    "# 实例方法\n",
    "    def show(self):\n",
    "        return '%02d:%02d:%02d' % \\\n",
    "               (self._hour, self._minute, self._second)\n",
    "def main():\n",
    "# 通过类方法创建对象并获取系统时间\n",
    "    clock = Clock.now()\n",
    "    while True:\n",
    "        print(clock.show())\n",
    "        break\n",
    "if __name__ == '__main__':\n",
    "    main()"
   ]
  },
  {
   "cell_type": "markdown",
   "id": "bddc53e2",
   "metadata": {},
   "source": [
    "## 类之间的关系"
   ]
  },
  {
   "cell_type": "markdown",
   "id": "95930e2e",
   "metadata": {},
   "source": [
    "第一种`is-a`，称为继承，比如手机和电子产品的关系。第二种`has-a`，称为关联，比如汽车和引擎的关系。  \n",
    "第三种`use-a`，称为依赖，司机有一个驾驶的行为（方法），方法的参数用到了汽车，那么司机和汽车的关系就是依赖。  \n",
    "可以使用`UML`（统一建模语言）进行面向对象建模，其中就包括用标准图形符号描述类之间的关系，此处不再赘述。"
   ]
  },
  {
   "cell_type": "markdown",
   "id": "f7e89019",
   "metadata": {},
   "source": [
    "## 继承与多态"
   ]
  },
  {
   "cell_type": "markdown",
   "id": "00e0a010",
   "metadata": {},
   "source": [
    "可以在已有类的基础上创建新类，其中一种做法是让一个类从另一个类那里直接继承属性和方法。  \n",
    "提供继承信息的称为父类，也叫超类或基类。得到继承信息的称为子类，也叫派生类或衍生类。  \n",
    "子类除了继承父类提供的属性和方法，还可以定义自己特有的属性和方法。  \n",
    "在实际开发中，常会用子类对象去替换掉一个父类对象，对应的原则称之为里氏替换原则。"
   ]
  },
  {
   "cell_type": "code",
   "execution_count": 7,
   "id": "43e9b90d",
   "metadata": {},
   "outputs": [
    {
     "name": "stdout",
     "output_type": "stream",
     "text": [
      "Jack正在打牌\n",
      "二年级的Jack正在学习数学\n",
      "Professor 正在打牌\n",
      "Professor Alex正在讲授Python程序设计\n"
     ]
    }
   ],
   "source": [
    "class Person(object):\n",
    "    def __init__(self, name, age):\n",
    "        self._name = name\n",
    "        self._age = age\n",
    "    @property\n",
    "    def name(self):\n",
    "        return self._name\n",
    "    @property\n",
    "    def age(self):\n",
    "        return self._age\n",
    "    @name.setter\n",
    "    def name(self, name):\n",
    "        self._name = name\n",
    "    @age.setter\n",
    "    def age(self, age):\n",
    "        self._age = age\n",
    "    def play(self):\n",
    "        if self._age <= 18:\n",
    "            print('%s正在下棋' % self._name)\n",
    "        else:\n",
    "            print('%s正在打牌' % self._name)\n",
    "class Student(Person):\n",
    "    def __init__(self, name, age, grade):\n",
    "        super().__init__(name, age)\n",
    "        self._grade = grade\n",
    "    @property\n",
    "    def grade(self):\n",
    "        return self._grade\n",
    "    @grade.setter\n",
    "    def grade(self, grade):\n",
    "        self._grade = grade\n",
    "    def study(self, course):\n",
    "        print('%s的%s正在学习%s' % (self._grade, self._name, course))\n",
    "class Teacher(Person):\n",
    "    def __init__(self, name, age, title):\n",
    "        super().__init__(name, age)\n",
    "        self._title = title\n",
    "    @property\n",
    "    def title(self):\n",
    "        return self._title\n",
    "    @title.setter\n",
    "    def title(self, title):\n",
    "        self._title = title\n",
    "    def teach(self, course):\n",
    "        print('%s%s正在讲授%s' % (self._name, self._title, course))\n",
    "def main():\n",
    "    stu = Student('Jack', 20, '二年级')\n",
    "    stu.play()\n",
    "    stu.study('数学')\n",
    "    t = Teacher('Professor ',42, 'Alex')\n",
    "    t.play()\n",
    "    t.teach('Python程序设计')\n",
    "if __name__ == '__main__':\n",
    "    main()"
   ]
  },
  {
   "cell_type": "markdown",
   "id": "a9e8b6b7",
   "metadata": {},
   "source": [
    "子类在继承了父类的方法后，可以对父类已有的方法给出新的实现版本，这个动作叫重写（override）。  \n",
    "通过方法重写可以让父类的同一个行为在子类中拥有不同的实现版本，  \n",
    "在调用这个经过子类重写的方法时，不同的子类对象会表现出不同的行为，也就是所谓的多态。"
   ]
  },
  {
   "cell_type": "code",
   "execution_count": 8,
   "id": "f990cf9e",
   "metadata": {},
   "outputs": [
    {
     "name": "stdout",
     "output_type": "stream",
     "text": [
      "汤姆: 喵喵\n",
      "大黄: 汪汪\n"
     ]
    }
   ],
   "source": [
    "from abc import ABCMeta, abstractmethod\n",
    "class Pet(object, metaclass=ABCMeta):\n",
    "    def __init__(self, nickname):\n",
    "        self._nickname = nickname\n",
    "    @abstractmethod\n",
    "    def make_voice(self):\n",
    "        pass\n",
    "class Dog(Pet):\n",
    "    def make_voice(self):\n",
    "        print('%s: 汪汪' % self._nickname)\n",
    "class Cat(Pet):\n",
    "    def make_voice(self):\n",
    "        print('%s: 喵喵' % self._nickname)\n",
    "def main():\n",
    "    pets = [ Cat('汤姆'), Dog('大黄')]\n",
    "    for pet in pets:\n",
    "        pet.make_voice()\n",
    "if __name__ == '__main__':\n",
    "    main()"
   ]
  },
  {
   "cell_type": "markdown",
   "id": "2ec17a69",
   "metadata": {},
   "source": [
    "上面的代码将Pet类处理成了一个抽象类，所谓抽象类就是不能够创建对象的类，其存在就是为了让其他类去继承它。  \n",
    "Python并未提供对抽象类的支持，可以通过`abc`模块的`ABCMeta`元类和`abstractmethod`包装器达到抽象类的效果。  \n",
    "如果一个类中存在抽象方法，这个类就不能够实例化（创建对象）。  \n",
    "上文中Dog和Cat两个子类分别对Pet类中的`make_voice（）`抽象方法进行了重写，  \n",
    "因此在main（）中调用该方法时，就表现出了多态（同样的方法做了不同的事情）。"
   ]
  }
 ],
 "metadata": {
  "kernelspec": {
   "display_name": "Python 3 (ipykernel)",
   "language": "python",
   "name": "python3"
  },
  "language_info": {
   "codemirror_mode": {
    "name": "ipython",
    "version": 3
   },
   "file_extension": ".py",
   "mimetype": "text/x-python",
   "name": "python",
   "nbconvert_exporter": "python",
   "pygments_lexer": "ipython3",
   "version": "3.10.0"
  }
 },
 "nbformat": 4,
 "nbformat_minor": 5
}
