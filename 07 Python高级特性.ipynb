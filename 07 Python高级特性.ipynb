{
 "cells": [
  {
   "cell_type": "markdown",
   "id": "e682f9fc",
   "metadata": {},
   "source": [
    "# Python高级特性"
   ]
  },
  {
   "cell_type": "markdown",
   "id": "91e4532b",
   "metadata": {},
   "source": [
    "## 切片"
   ]
  },
  {
   "cell_type": "markdown",
   "id": "bafbb956",
   "metadata": {},
   "source": [
    "对于取指定索引范围的操作，用循环十分繁琐，为此Python提供了切片（Slice）操作符。  \n",
    "L[0:3]表示，从索引0开始取到索引3为止，不包括索引3，索引是0其实可以省略不写。  \n",
    "Python支持用L[-1]取倒数第一个元素，自然支持倒数切片，索引是-1同样可以省略不写。  \n",
    "事实上，什么索引都不写，只写[:]，可以原样复制该list。"
   ]
  },
  {
   "cell_type": "code",
   "execution_count": 1,
   "id": "ddcfc4e9",
   "metadata": {},
   "outputs": [
    {
     "name": "stdout",
     "output_type": "stream",
     "text": [
      "['Michael', 'Sarah', 'Tracy']\n",
      "['Bob', 'Jack']\n",
      "['Michael', 'Sarah', 'Tracy', 'Bob', 'Jack']\n"
     ]
    }
   ],
   "source": [
    "L = ['Michael', 'Sarah', 'Tracy', 'Bob', 'Jack']\n",
    "print(L[:3])\n",
    "print(L[-2:])\n",
    "print(L[:])"
   ]
  },
  {
   "cell_type": "markdown",
   "id": "515390b1",
   "metadata": {},
   "source": [
    "扩展切片形如a[start:stop:step]，其中step是一个非零整数，具体行为是从start出发，  \n",
    "以step为步长取元素，直至越过stop，且不包括stop。（简单切片就是step=1的扩展切片）"
   ]
  },
  {
   "cell_type": "markdown",
   "id": "30d91923",
   "metadata": {},
   "source": [
    "tuple相较于list，区别是tuple不可变，但是也可以用切片操作，操作的结果仍是tuple。  \n",
    "字符串可以看成list，一个字符就是一个元素，也可以用切片操作，操作结果仍是字符串。"
   ]
  },
  {
   "cell_type": "code",
   "execution_count": 2,
   "id": "c616c4ef",
   "metadata": {},
   "outputs": [
    {
     "data": {
      "text/plain": [
       "(0, 1, 2)"
      ]
     },
     "execution_count": 2,
     "metadata": {},
     "output_type": "execute_result"
    }
   ],
   "source": [
    "(0, 1, 2, 3, 4, 5)[:3]"
   ]
  },
  {
   "cell_type": "code",
   "execution_count": 3,
   "id": "3556493c",
   "metadata": {},
   "outputs": [
    {
     "data": {
      "text/plain": [
       "'ACEG'"
      ]
     },
     "execution_count": 3,
     "metadata": {},
     "output_type": "execute_result"
    }
   ],
   "source": [
    "'ABCDEFG'[::2]"
   ]
  },
  {
   "cell_type": "markdown",
   "id": "4a5896b5",
   "metadata": {},
   "source": [
    "## 迭代"
   ]
  },
  {
   "cell_type": "markdown",
   "id": "e36f60bb",
   "metadata": {},
   "source": [
    "给定一个list或tuple，可以通过for循环来遍历它，称为迭代（Iteration）。  \n",
    "Python的for循环抽象程度较高，因此不限于上面提到的两种数据类型，  \n",
    "而是可以作用于任何可迭代对象，包括我们自定义的数据类型。"
   ]
  },
  {
   "cell_type": "code",
   "execution_count": 4,
   "id": "ba3993d0",
   "metadata": {},
   "outputs": [
    {
     "name": "stdout",
     "output_type": "stream",
     "text": [
      "A\n",
      "B\n",
      "C\n"
     ]
    }
   ],
   "source": [
    "for ch in 'ABC':\n",
    "    print(ch)"
   ]
  },
  {
   "cell_type": "code",
   "execution_count": 5,
   "id": "58a7c622",
   "metadata": {},
   "outputs": [
    {
     "name": "stdout",
     "output_type": "stream",
     "text": [
      "a\n",
      "b\n",
      "c\n"
     ]
    }
   ],
   "source": [
    "d = {'a': 1, 'b': 2, 'c': 3}\n",
    "for key in d:\n",
    "    print(key)"
   ]
  },
  {
   "cell_type": "markdown",
   "id": "761b1344",
   "metadata": {},
   "source": [
    "需要说明的是，dict的存储不同于list的顺序排列，迭代结果的顺序有可能不一样。  \n",
    "dict默认迭代key，迭代value可以用`for value in d.values()`，  \n",
    "同时迭代key和value可以用`for k, v in d.items()`。"
   ]
  },
  {
   "cell_type": "code",
   "execution_count": 6,
   "id": "2d0c7f71",
   "metadata": {},
   "outputs": [
    {
     "name": "stdout",
     "output_type": "stream",
     "text": [
      "1 1\n",
      "2 4\n",
      "3 9\n"
     ]
    }
   ],
   "source": [
    "# Python中for循环可以同时引用两个变量\n",
    "for x, y in [(1, 1), (2, 4), (3, 9)]:\n",
    "    print(x, y)"
   ]
  },
  {
   "cell_type": "markdown",
   "id": "caccaf24",
   "metadata": {},
   "source": [
    "判断一个对象是否为可迭代对象，可以使用`collections`模块的`Iterable`类型："
   ]
  },
  {
   "cell_type": "code",
   "execution_count": 7,
   "id": "92b67374",
   "metadata": {},
   "outputs": [
    {
     "data": {
      "text/plain": [
       "False"
      ]
     },
     "execution_count": 7,
     "metadata": {},
     "output_type": "execute_result"
    }
   ],
   "source": [
    "# 这里测试一下整数123能不能迭代\n",
    "# 旧版本为collection，高版本需要使用collection.abc\n",
    "from collections.abc import Iterable\n",
    "isinstance(123, Iterable)"
   ]
  },
  {
   "cell_type": "markdown",
   "id": "8c49a648",
   "metadata": {},
   "source": [
    "## 列表生成式"
   ]
  },
  {
   "cell_type": "markdown",
   "id": "9225beb1",
   "metadata": {},
   "source": [
    "`List Comprehensions`是Python内置的生成式，用于创建list。"
   ]
  },
  {
   "cell_type": "code",
   "execution_count": 8,
   "id": "0053d4d9",
   "metadata": {},
   "outputs": [
    {
     "data": {
      "text/plain": [
       "[1, 4, 9, 16, 25, 36, 49, 64, 81, 100]"
      ]
     },
     "execution_count": 8,
     "metadata": {},
     "output_type": "execute_result"
    }
   ],
   "source": [
    "# 欲生成[1x1, 2x2, 3x3, ..., 10x10]，可以依靠循环\n",
    "L = []\n",
    "for x in range(1, 11):\n",
    "    L.append(x * x)\n",
    "L"
   ]
  },
  {
   "cell_type": "code",
   "execution_count": 9,
   "id": "c59730be",
   "metadata": {},
   "outputs": [
    {
     "data": {
      "text/plain": [
       "[1, 4, 9, 16, 25, 36, 49, 64, 81, 100]"
      ]
     },
     "execution_count": 9,
     "metadata": {},
     "output_type": "execute_result"
    }
   ],
   "source": [
    "# 循环太繁琐，使用列表生成式可以用一行语句代替它\n",
    "# 把要生成的元素x*x放到前面，后面跟for循环，就可以把list创建出来\n",
    "[x * x for x in range(1, 11)]"
   ]
  },
  {
   "cell_type": "code",
   "execution_count": 10,
   "id": "5a06fb55",
   "metadata": {},
   "outputs": [
    {
     "data": {
      "text/plain": [
       "[4, 16, 36, 64, 100]"
      ]
     },
     "execution_count": 10,
     "metadata": {},
     "output_type": "execute_result"
    }
   ],
   "source": [
    "# for循环后面还可以加上if判断，这样可以筛选出仅偶数的平方\n",
    "[x * x for x in range(1, 11) if x % 2 == 0]"
   ]
  },
  {
   "cell_type": "code",
   "execution_count": 11,
   "id": "c8fd53a0",
   "metadata": {},
   "outputs": [
    {
     "data": {
      "text/plain": [
       "['AX', 'AY', 'AZ', 'BX', 'BY', 'BZ', 'CX', 'CY', 'CZ']"
      ]
     },
     "execution_count": 11,
     "metadata": {},
     "output_type": "execute_result"
    }
   ],
   "source": [
    "# 可以使用两层循环，但是三层及以上的循环就很少用到了\n",
    "[m + n for m in 'ABC' for n in 'XYZ']"
   ]
  },
  {
   "cell_type": "code",
   "execution_count": 12,
   "id": "0d1d786b",
   "metadata": {},
   "outputs": [
    {
     "data": {
      "text/plain": [
       "['x=A', 'y=B', 'z=C']"
      ]
     },
     "execution_count": 12,
     "metadata": {},
     "output_type": "execute_result"
    }
   ],
   "source": [
    "# for循环可以使用两个或多个变量，因此列表生成式也可以使用两个变量\n",
    "d = {'x': 'A', 'y': 'B', 'z': 'C' }\n",
    "[k + '=' + v for k, v in d.items()]"
   ]
  },
  {
   "cell_type": "code",
   "execution_count": 13,
   "id": "34e9f053",
   "metadata": {},
   "outputs": [
    {
     "data": {
      "text/plain": [
       "['hello', 'world', 'ibm', 'apple']"
      ]
     },
     "execution_count": 13,
     "metadata": {},
     "output_type": "execute_result"
    }
   ],
   "source": [
    "# 运用列表生成式，还可以快速通过一个list推导出另一个list\n",
    "# 把一个由字符串组成的list中的所有字符串变成小写\n",
    "L = ['Hello', 'World', 'IBM', 'Apple']\n",
    "[s.lower() for s in L]"
   ]
  },
  {
   "cell_type": "markdown",
   "id": "35b92579",
   "metadata": {},
   "source": [
    "## 生成器"
   ]
  },
  {
   "cell_type": "markdown",
   "id": "9a1b4819",
   "metadata": {},
   "source": [
    "列表生成式可以创建列表，受内存限制，列表容量是有限的。  \n",
    "假设仅需访问前面几个元素，后面元素占用的空间就浪费了。  \n",
    "如果列表元素可以按照某种算法推算出来，边循环边推算出后续元素，  \n",
    "就不必创建完整的list，从而节省大量的空间，这种机制称为生成器（Generator)。  \n",
    "直接把列表生成式的[]改成()，就可以创建一个生成器。  \n",
    "如果推算的算法比较复杂，用类似列表生成式的for循环无法实现时，可以用函数来实现。"
   ]
  },
  {
   "cell_type": "code",
   "execution_count": 14,
   "id": "fc7cd03d",
   "metadata": {},
   "outputs": [
    {
     "data": {
      "text/plain": [
       "<generator object <genexpr> at 0x000001629F732500>"
      ]
     },
     "execution_count": 14,
     "metadata": {},
     "output_type": "execute_result"
    }
   ],
   "source": [
    "g = (x * x for x in range(10))\n",
    "g"
   ]
  },
  {
   "cell_type": "code",
   "execution_count": 15,
   "id": "5740a752",
   "metadata": {},
   "outputs": [
    {
     "name": "stdout",
     "output_type": "stream",
     "text": [
      "0\n",
      "1\n",
      "4\n",
      "9\n",
      "16\n",
      "25\n",
      "36\n",
      "49\n",
      "64\n",
      "81\n"
     ]
    }
   ],
   "source": [
    "# 如果要逐个打印出生成器的元素，可以通过`next()`获得生成器的下一个返回值\n",
    "print(next(g))\n",
    "print(next(g))\n",
    "print(next(g))\n",
    "print(next(g))\n",
    "print(next(g))\n",
    "print(next(g))\n",
    "print(next(g))\n",
    "print(next(g))\n",
    "print(next(g))\n",
    "print(next(g))"
   ]
  },
  {
   "cell_type": "code",
   "execution_count": 16,
   "id": "ff7dbe52",
   "metadata": {},
   "outputs": [
    {
     "name": "stdout",
     "output_type": "stream",
     "text": [
      "0\n",
      "1\n",
      "4\n",
      "9\n",
      "16\n",
      "25\n",
      "36\n",
      "49\n",
      "64\n",
      "81\n"
     ]
    }
   ],
   "source": [
    "# 上面的做法实属麻烦，正确方法是for循环，因为generator本身也是可迭代对象\n",
    "g = (x * x for x in range(10))\n",
    "for n in g:\n",
    "    print(n)"
   ]
  },
  {
   "cell_type": "markdown",
   "id": "f0a1c429",
   "metadata": {},
   "source": [
    "斐波拉契数列中，除第一、第二个数外，任意一个数都可由前两个数相加得到，  \n",
    "斐波拉契数列的前n个数用列表生成式写不出来，用函数把它打印出来却很容易："
   ]
  },
  {
   "cell_type": "code",
   "execution_count": 17,
   "id": "6f15f11e",
   "metadata": {},
   "outputs": [
    {
     "name": "stdout",
     "output_type": "stream",
     "text": [
      "1\n",
      "1\n",
      "2\n",
      "3\n",
      "5\n",
      "8\n"
     ]
    },
    {
     "data": {
      "text/plain": [
       "'Done'"
      ]
     },
     "execution_count": 17,
     "metadata": {},
     "output_type": "execute_result"
    }
   ],
   "source": [
    "def fib(max):\n",
    "    n, a, b = 0, 0, 1\n",
    "    while n < max:\n",
    "        print(b)\n",
    "        a, b = b, a + b\n",
    "        n = n + 1\n",
    "    return 'Done'\n",
    "fib(6)"
   ]
  },
  {
   "cell_type": "markdown",
   "id": "bad8f273",
   "metadata": {},
   "source": [
    "fib()定义了斐波拉契数列的推算规则，从第一个元素开始推算出后续元素，这种逻辑类似于生成器。  \n",
    "事实上，要把fib()变成生成器，把print(b)改为yield b即可，这就是定义生成器的另一种方法。  \n",
    "换言之，如果一个函数定义中包含`yield`关键字，那么它就不再是一个普通函数，而是一个生成器。"
   ]
  },
  {
   "cell_type": "code",
   "execution_count": 18,
   "id": "eb4e0253",
   "metadata": {},
   "outputs": [
    {
     "data": {
      "text/plain": [
       "<generator object fib at 0x000001629F732F80>"
      ]
     },
     "execution_count": 18,
     "metadata": {},
     "output_type": "execute_result"
    }
   ],
   "source": [
    "def fib(max):\n",
    "    n, a, b = 0, 0, 1\n",
    "    while n < max:\n",
    "        yield b\n",
    "        a, b = b, a + b\n",
    "        n = n + 1\n",
    "    return 'Done'\n",
    "f = fib(6)\n",
    "f"
   ]
  },
  {
   "cell_type": "code",
   "execution_count": 19,
   "id": "5e1bac2f",
   "metadata": {},
   "outputs": [
    {
     "name": "stdout",
     "output_type": "stream",
     "text": [
      "step 1\n",
      "1\n",
      "step 2\n",
      "2\n",
      "step 3\n",
      "3\n"
     ]
    }
   ],
   "source": [
    "# 变成生成器的函数，在调用next()时执行，遇到yield语句就返回，下次执行时从上次返回的yield语句处继续\n",
    "def odd():\n",
    "    print('step 1')\n",
    "    yield 1\n",
    "    print('step 2')\n",
    "    yield 2\n",
    "    print('step 3')\n",
    "    yield 3\n",
    "o = odd()\n",
    "print(next(o))\n",
    "print(next(o))\n",
    "print(next(o))\n",
    "# 上面的生成器执行三次yield后，已经没有yield可以执行了，如果第四次调用next(o)将会报错StopIteration"
   ]
  },
  {
   "cell_type": "code",
   "execution_count": 20,
   "id": "ac2944d3",
   "metadata": {},
   "outputs": [
    {
     "name": "stdout",
     "output_type": "stream",
     "text": [
      "1\n",
      "1\n",
      "2\n",
      "3\n",
      "5\n",
      "8\n"
     ]
    }
   ],
   "source": [
    "# 同样的，把函数改成生成器后，没必要用next()来获取下一个返回值，而是直接用for循环来迭代\n",
    "for n in fib(6):\n",
    "    print(n)"
   ]
  },
  {
   "cell_type": "markdown",
   "id": "fb5f638a",
   "metadata": {},
   "source": [
    "但是用for循环迭代由函数变成的生成器，会拿不到return语句的返回值。  \n",
    "想要拿到返回值，必须捕获StopIteration错误，返回值包含在其value中。"
   ]
  },
  {
   "cell_type": "code",
   "execution_count": 21,
   "id": "f3916f49",
   "metadata": {},
   "outputs": [
    {
     "name": "stdout",
     "output_type": "stream",
     "text": [
      "1\n",
      "1\n",
      "2\n",
      "3\n",
      "5\n",
      "8\n",
      "Done\n"
     ]
    }
   ],
   "source": [
    "g = fib(6)\n",
    "while True:\n",
    "    try:\n",
    "        x = next(g)\n",
    "        print(x)\n",
    "    except StopIteration as e:\n",
    "        print(e.value)\n",
    "        break"
   ]
  },
  {
   "cell_type": "markdown",
   "id": "efa9bf67",
   "metadata": {},
   "source": [
    "## 迭代器"
   ]
  },
  {
   "cell_type": "markdown",
   "id": "d057b394",
   "metadata": {},
   "source": [
    "可直接作用于for循环的对象是可迭代对象（Iterable），可作用于next()的对象则称为迭代器（Iterator）。  \n",
    "Iterator是一个惰性计算的序列，可以使用`isinstance()`判断一个对象是否是Iterator对象。"
   ]
  },
  {
   "cell_type": "markdown",
   "id": "c1a3ef07",
   "metadata": {},
   "source": [
    "Iterator表示一个数据流，可以把它看做有序序列，但不能提前知道序列长度。  \n",
    "Iterator可以被next()调用并不断返回下一个数据，直到没有数据时抛出StopIteration。    \n",
    "Iterator的计算是惰性的，只在需要返回下一个数据时才会计算。  \n",
    "Iterator可以用于表示无限大的数据流，例如全体自然数，而用list是绝不可能存储全体自然数的。"
   ]
  },
  {
   "cell_type": "code",
   "execution_count": 22,
   "id": "34441cdb",
   "metadata": {},
   "outputs": [
    {
     "data": {
      "text/plain": [
       "True"
      ]
     },
     "execution_count": 22,
     "metadata": {},
     "output_type": "execute_result"
    }
   ],
   "source": [
    "# 生成器都是Iterator\n",
    "from collections.abc import Iterator\n",
    "isinstance((x for x in range(10)), Iterator)"
   ]
  },
  {
   "cell_type": "code",
   "execution_count": 23,
   "id": "3b29802a",
   "metadata": {},
   "outputs": [
    {
     "data": {
      "text/plain": [
       "True"
      ]
     },
     "execution_count": 23,
     "metadata": {},
     "output_type": "execute_result"
    }
   ],
   "source": [
    "# list、dict、str等只是Iterable，不是Iterator\n",
    "# 可以用iter()将Iterable变为Iterator\n",
    "isinstance(iter([]), Iterator)"
   ]
  }
 ],
 "metadata": {
  "kernelspec": {
   "display_name": "Python 3 (ipykernel)",
   "language": "python",
   "name": "python3"
  },
  "language_info": {
   "codemirror_mode": {
    "name": "ipython",
    "version": 3
   },
   "file_extension": ".py",
   "mimetype": "text/x-python",
   "name": "python",
   "nbconvert_exporter": "python",
   "pygments_lexer": "ipython3",
   "version": "3.10.0"
  }
 },
 "nbformat": 4,
 "nbformat_minor": 5
}
