{
 "cells": [
  {
   "cell_type": "markdown",
   "id": "0deb303e",
   "metadata": {},
   "source": [
    "# 函数的定义"
   ]
  },
  {
   "cell_type": "markdown",
   "id": "be3e1d36",
   "metadata": {},
   "source": [
    "## 调用函数"
   ]
  },
  {
   "cell_type": "markdown",
   "id": "0aab90e4",
   "metadata": {},
   "source": [
    "Python内置了很多有用的函数供用户调用，只要知道函数的名称和参数即可。  \n",
    "比如求绝对值的函数abs()，只有1个参数，可以查看[官方文档](http://docs.python.org/3/library/functions.html#abs)，也可以用`help(abs)`查看帮助信息。 "
   ]
  },
  {
   "cell_type": "code",
   "execution_count": 1,
   "id": "ac1b319b",
   "metadata": {},
   "outputs": [
    {
     "name": "stdout",
     "output_type": "stream",
     "text": [
      "Help on built-in function abs in module builtins:\n",
      "\n",
      "abs(x, /)\n",
      "    Return the absolute value of the argument.\n",
      "\n"
     ]
    }
   ],
   "source": [
    "help(abs)"
   ]
  },
  {
   "cell_type": "code",
   "execution_count": 2,
   "id": "6e32d5e2",
   "metadata": {},
   "outputs": [
    {
     "data": {
      "text/plain": [
       "12.34"
      ]
     },
     "execution_count": 2,
     "metadata": {},
     "output_type": "execute_result"
    }
   ],
   "source": [
    "abs(-12.34)"
   ]
  },
  {
   "cell_type": "markdown",
   "id": "2c1fcdb5",
   "metadata": {},
   "source": [
    "调用函数的时候，如果传入的参数数量不对，解释器会报TypeError的错误，并给出错误信息。    \n",
    "比如给abs()传入2个参数，Python会报错并明确abs()有且仅有1个参数，但用户给出了2个。"
   ]
  },
  {
   "cell_type": "markdown",
   "id": "268e9f83",
   "metadata": {},
   "source": [
    "如果传入的参数数量正确，但参数类型不能被函数所接受，虽然解释器不会自动检查，  \n",
    "但是由于内置函数abs()有参数检查，也会报TypeError的错误，并给出错误信息。  \n",
    "比如给abs()传入参数'hello'，Python会报错并指出str是错误的参数类型。"
   ]
  },
  {
   "cell_type": "code",
   "execution_count": 3,
   "id": "937f4227",
   "metadata": {},
   "outputs": [
    {
     "data": {
      "text/plain": [
       "3"
      ]
     },
     "execution_count": 3,
     "metadata": {},
     "output_type": "execute_result"
    }
   ],
   "source": [
    "# 与abs()不同，max()不限制参数的数量，作用是返回给定参数的最大值\n",
    "max(2, 3, 1, -5)"
   ]
  },
  {
   "cell_type": "markdown",
   "id": "00888fab",
   "metadata": {},
   "source": [
    "函数名其实是指向一个函数对象的引用，可以把函数名赋给一个变量，相当于给这个函数“起别名”。"
   ]
  },
  {
   "cell_type": "code",
   "execution_count": 4,
   "id": "a5306402",
   "metadata": {},
   "outputs": [
    {
     "data": {
      "text/plain": [
       "1"
      ]
     },
     "execution_count": 4,
     "metadata": {},
     "output_type": "execute_result"
    }
   ],
   "source": [
    "a = abs # 使变量a指向abs函数\n",
    "a(-1) # 可以通过a调用abs函数"
   ]
  },
  {
   "cell_type": "markdown",
   "id": "6dc66d48",
   "metadata": {},
   "source": [
    "## 定义函数"
   ]
  },
  {
   "cell_type": "markdown",
   "id": "f56dda39",
   "metadata": {},
   "source": [
    "定义函数要用`def`语句，写出函数名和参数，并在缩进块中编写函数体，返回值用`return`语句返回。  \n",
    "函数体内部的语句在执行时，一旦执行到return语句，函数就执行完毕，并将结果返回。  \n",
    "没有return语句的函数执行完毕后也会返回结果None，return None可以简写为return。"
   ]
  },
  {
   "cell_type": "markdown",
   "id": "888fd318",
   "metadata": {},
   "source": [
    "在Python交互环境中定义函数，会出现...提示符，定义结束后记得要两次回车返回>>>提示符下。"
   ]
  },
  {
   "cell_type": "code",
   "execution_count": null,
   "id": "7d594a8b",
   "metadata": {},
   "outputs": [],
   "source": [
    "# 以自定义一个求绝对值的my_abs函数为例\n",
    "def my_abs(x):\n",
    "    if x >= 0:\n",
    "        return x\n",
    "    else:\n",
    "        return -x"
   ]
  },
  {
   "cell_type": "markdown",
   "id": "eb3c5615",
   "metadata": {},
   "source": [
    "将my_abs函数保存为abstest.py文件后，就可以在文件所在目录下用语句  \n",
    "`from abstest import my_abs`（文件名不含.py扩展名）来导入my_abs函数。"
   ]
  },
  {
   "cell_type": "markdown",
   "id": "892c9985",
   "metadata": {},
   "source": [
    "my_abs函数没有参数检查，传入错误类型参数时，if语句出错，错误信息和abs()不同，可见函数定义不够完善。  \n",
    "现在修改my_abs的定义，只允许整数和浮点数作为参数，数据类型检查可以用内置函数`isinstance()`实现："
   ]
  },
  {
   "cell_type": "code",
   "execution_count": null,
   "id": "6666d6d2",
   "metadata": {},
   "outputs": [],
   "source": [
    "def my_abs(x):\n",
    "    if not isinstance(x, (int, float)):\n",
    "        raise TypeError('bad operand type')\n",
    "    if x >= 0:\n",
    "        return x\n",
    "    else:\n",
    "        return -x"
   ]
  },
  {
   "cell_type": "code",
   "execution_count": null,
   "id": "3179cedc",
   "metadata": {},
   "outputs": [],
   "source": [
    "# 如果想定义一个空函数，可以使用pass语句，pass用来让解释器跳过此处，什么都不做\n",
    "def nop():\n",
    "    pass"
   ]
  },
  {
   "cell_type": "code",
   "execution_count": null,
   "id": "c1f78185",
   "metadata": {},
   "outputs": [],
   "source": [
    "# 有时候程序需要占位，或者放一条不做任何事的语句，此时就可以用pass实现\n",
    "if age >= 18:\n",
    "    pass"
   ]
  },
  {
   "cell_type": "markdown",
   "id": "0def0400",
   "metadata": {},
   "source": [
    "## 返回多个值"
   ]
  },
  {
   "cell_type": "markdown",
   "id": "d18523f5",
   "metadata": {},
   "source": [
    "一个点移动到另一个点，给出原坐标、位移和角度，就可以算出新坐标："
   ]
  },
  {
   "cell_type": "code",
   "execution_count": 5,
   "id": "e923db81",
   "metadata": {},
   "outputs": [
    {
     "name": "stdout",
     "output_type": "stream",
     "text": [
      "151.96152422706632 70.0\n"
     ]
    }
   ],
   "source": [
    "import math \n",
    "def move(x, y, step, angle=0):\n",
    "    nx = x + step * math.cos(angle)\n",
    "    ny = y - step * math.sin(angle)\n",
    "    return nx, ny\n",
    "x, y = move(100, 100, 60, math.pi / 6)\n",
    "print(x, y)"
   ]
  },
  {
   "cell_type": "markdown",
   "id": "afd89213",
   "metadata": {},
   "source": [
    "上述函数返回的看似是多个值，其实只是一种假象，返回的仍然是单一值："
   ]
  },
  {
   "cell_type": "code",
   "execution_count": 6,
   "id": "9c8629d0",
   "metadata": {},
   "outputs": [
    {
     "name": "stdout",
     "output_type": "stream",
     "text": [
      "(151.96152422706632, 70.0)\n"
     ]
    }
   ],
   "source": [
    "r = move(100, 100, 60, math.pi / 6)\n",
    "print(r)"
   ]
  },
  {
   "cell_type": "markdown",
   "id": "5169e080",
   "metadata": {},
   "source": [
    "原来Python中多个变量作为一个tuple返回，按位置赋给对应的值，书写return语句时可以省略tuple的括号。"
   ]
  },
  {
   "cell_type": "markdown",
   "id": "2af73adf",
   "metadata": {},
   "source": [
    "## 递归函数"
   ]
  },
  {
   "cell_type": "markdown",
   "id": "ca7bb878",
   "metadata": {},
   "source": [
    "在函数内部，可以调用其他函数。如果一个函数在内部调用自身，这个函数就是递归函数。  \n",
    "例如用函数fact(n)计算n的阶乘：`fact(n)=n!=n*fact(n-1)`，只有n=1时需要特殊处理。"
   ]
  },
  {
   "cell_type": "code",
   "execution_count": null,
   "id": "2d439721",
   "metadata": {},
   "outputs": [],
   "source": [
    "# 所有的递归函数都可以写成循环形式，但逻辑不如递归清晰\n",
    "def fact(n):\n",
    "    if n==1:\n",
    "        return 1\n",
    "    return n * fact(n - 1)"
   ]
  },
  {
   "cell_type": "markdown",
   "id": "f29f4295",
   "metadata": {},
   "source": [
    "典型的递归模型是首先执行递归调用，然后获取递归调用的返回值并计算结果。  \n",
    "进入函数调用，栈就会加一层栈帧，函数返回时则减一层栈帧。  \n",
    "如果递归链过长，可能会`stack overflow`（栈溢出），解决方法是通过尾递归优化。"
   ]
  },
  {
   "cell_type": "code",
   "execution_count": null,
   "id": "dbaca2a0",
   "metadata": {},
   "outputs": [],
   "source": [
    "# fact(n)的return语句包含乘法表达式，不是尾递归，这里改为尾递归形式\n",
    "def fact(n):\n",
    "    return fact_iter(n, 1)\n",
    "def fact_iter(num, product):\n",
    "    if num == 1:\n",
    "        return product\n",
    "    return fact_iter(num - 1, num * product)"
   ]
  },
  {
   "cell_type": "markdown",
   "id": "4d158798",
   "metadata": {},
   "source": [
    "如果函数中所有递归形式的调用都出现在函数末尾，且return语句不包含表达式，称为尾递归。  \n",
    "针对尾递归做过优化的编译器，检测到函数调用是尾递归时，会覆盖当前的活动记录而不是在栈中创建一个新的。  \n",
    "尾递归调用是当前活跃期内最后一条待执行的语句，返回时栈帧中没有其他事可做，也就没有保存栈帧的必要了。  \n",
    "覆盖当前的栈帧而不是在其之上重新添加一个，所使用的栈空间就大大缩减了，使得实际的运行效率变高。  \n",
    "遗憾的是，标准Python解释器并没有针对尾递归的优化，所以上述对fact(n)的修改并没有效果。"
   ]
  },
  {
   "cell_type": "markdown",
   "id": "a5d7b483",
   "metadata": {},
   "source": [
    "## 匿名函数"
   ]
  },
  {
   "cell_type": "markdown",
   "id": "49c3bafb",
   "metadata": {},
   "source": [
    "Python中有两种函数，一种是def定义的函数，另一种是Lambda表达式，又叫匿名函数。  \n",
    "对于函数体仅有单行的函数，可以用Lambda表达式代替，省去了定义函数的过程。  \n",
    "对于不需要多次复用的函数，使用Lambda表达式可以在用完后立即释放，提高程序性能。  \n",
    "Lambda表达式的语法格式为`name = lambda [list] : 表达式`，  \n",
    "其中[list]作为可选参数，等同于def定义时指定的参数列表，value则为该表达式的名称。"
   ]
  },
  {
   "cell_type": "code",
   "execution_count": null,
   "id": "43707ddd",
   "metadata": {},
   "outputs": [],
   "source": [
    "# def定义的函数\n",
    "def add(x, y):\n",
    "    return x + y\n",
    "print(add(1,2))\n",
    "# 改写为匿名函数\n",
    "add = lambda x, y : x + y\n",
    "print(add(1,2))"
   ]
  }
 ],
 "metadata": {
  "kernelspec": {
   "display_name": "Python 3 (ipykernel)",
   "language": "python",
   "name": "python3"
  },
  "language_info": {
   "codemirror_mode": {
    "name": "ipython",
    "version": 3
   },
   "file_extension": ".py",
   "mimetype": "text/x-python",
   "name": "python",
   "nbconvert_exporter": "python",
   "pygments_lexer": "ipython3",
   "version": "3.10.0"
  }
 },
 "nbformat": 4,
 "nbformat_minor": 5
}
