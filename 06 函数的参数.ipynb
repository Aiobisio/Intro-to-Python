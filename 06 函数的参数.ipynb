{
 "cells": [
  {
   "cell_type": "markdown",
   "id": "82ca4066",
   "metadata": {},
   "source": [
    "# 函数的参数"
   ]
  },
  {
   "cell_type": "markdown",
   "id": "769629d7",
   "metadata": {},
   "source": [
    "## 位置参数"
   ]
  },
  {
   "cell_type": "code",
   "execution_count": 1,
   "id": "9aa558af",
   "metadata": {},
   "outputs": [
    {
     "data": {
      "text/plain": [
       "25"
      ]
     },
     "execution_count": 1,
     "metadata": {},
     "output_type": "execute_result"
    }
   ],
   "source": [
    "def power(x):\n",
    "    return x * x\n",
    "power(5)"
   ]
  },
  {
   "cell_type": "markdown",
   "id": "d7efeda3",
   "metadata": {},
   "source": [
    "对于power函数，x就是一个位置参数，调用power()必须传入有且仅有的一个参数x。  \n",
    "现在如果要计算x^3，可以再定义一个power3函数。  \n",
    "但如果要计算x^4、x^5……怎么办？显然不可能定义无限多个函数。"
   ]
  },
  {
   "cell_type": "code",
   "execution_count": 2,
   "id": "181c718b",
   "metadata": {},
   "outputs": [
    {
     "data": {
      "text/plain": [
       "125"
      ]
     },
     "execution_count": 2,
     "metadata": {},
     "output_type": "execute_result"
    }
   ],
   "source": [
    "# 可以把power(x)修改为 power(x, n)，用来计算x^n\n",
    "def power(x, n):\n",
    "    s = 1\n",
    "    while n > 0:\n",
    "        n = n - 1\n",
    "        s = s * x\n",
    "    return s\n",
    "power(5, 3)"
   ]
  },
  {
   "cell_type": "markdown",
   "id": "7a13ce19",
   "metadata": {},
   "source": [
    "修改后的power函数有x和n两个参数，二者都是位置参数，  \n",
    "调用函数时，传入的两个值按照位置顺序依次赋给x和n。"
   ]
  },
  {
   "cell_type": "markdown",
   "id": "78926260",
   "metadata": {},
   "source": [
    "## 默认参数"
   ]
  },
  {
   "cell_type": "markdown",
   "id": "9430f35d",
   "metadata": {},
   "source": [
    "修改后的power函数增加了一个参数，再使用`power(5)`语句就会报错。  \n",
    "假设用户经常计算x^2，就完全可以把第二个参数n的默认值设定为2："
   ]
  },
  {
   "cell_type": "code",
   "execution_count": 3,
   "id": "9e8a80a7",
   "metadata": {},
   "outputs": [
    {
     "name": "stdout",
     "output_type": "stream",
     "text": [
      "25\n",
      "125\n"
     ]
    }
   ],
   "source": [
    "def power(x, n=2):\n",
    "    s = 1\n",
    "    while n > 0:\n",
    "        n = n - 1\n",
    "        s = s * x\n",
    "    return s\n",
    "# 现在调用power(5)就相当于调用了power(5, 2)\n",
    "print(power(5))\n",
    "# n不为2时，要求明确地传入n的值\n",
    "print(power(5, 3))"
   ]
  },
  {
   "cell_type": "markdown",
   "id": "1b4b0f06",
   "metadata": {},
   "source": [
    "默认参数可以简化函数调用，设置时注意必选参数在前，默认参数在后，否则解释器会报错。"
   ]
  },
  {
   "cell_type": "markdown",
   "id": "0df23627",
   "metadata": {},
   "source": [
    "假设写一个学生注册的函数enroll()，需要传入name和gender两个参数。  \n",
    "如果在姓名和性别之外，还要传入年龄、城市等信息，就会使函数调用变得很复杂。  \n",
    "考虑到大部分学生的年龄和城市相同，可以把age和city设为默认参数。  \n",
    "大多数学生注册时只要提供两个必需的参数，只有与默认参数不符的学生才需要提供额外信息。"
   ]
  },
  {
   "cell_type": "code",
   "execution_count": null,
   "id": "b9fa66e2",
   "metadata": {},
   "outputs": [],
   "source": [
    "def enroll(name, gender, age=6, city='Beijing'):\n",
    "    print('name:', name)\n",
    "    print('gender:', gender)\n",
    "    print('age:', age)\n",
    "    print('city:', city)"
   ]
  },
  {
   "cell_type": "markdown",
   "id": "70aa9e01",
   "metadata": {},
   "source": [
    "调用有多个默认参数的函数，可以按顺序提供默认参数，比如`enroll('Bob', 'M', 7)`，  \n",
    "第三个参数7传给age参数，city参数由于没有提供，仍使用默认值'Beijing'；"
   ]
  },
  {
   "cell_type": "markdown",
   "id": "c1fc1861",
   "metadata": {},
   "source": [
    "也可以形如`enroll('Adam', 'M', city='Tianjin')`，  \n",
    "意思是city参数用传进去的值'Tianjin'，其他默认参数则使用默认值。"
   ]
  },
  {
   "cell_type": "markdown",
   "id": "78e7d293",
   "metadata": {},
   "source": [
    "默认参数的使用有很多陷阱，比如定义一个函数，传入一个list，添加'END'后返回："
   ]
  },
  {
   "cell_type": "code",
   "execution_count": 4,
   "id": "9f9f5bca",
   "metadata": {},
   "outputs": [
    {
     "data": {
      "text/plain": [
       "[1, 2, 3, 'END']"
      ]
     },
     "execution_count": 4,
     "metadata": {},
     "output_type": "execute_result"
    }
   ],
   "source": [
    "def add_end(L=[]):\n",
    "    L.append('END')\n",
    "    return L\n",
    "# 正常调用的结果似乎不错\n",
    "add_end([1, 2, 3])"
   ]
  },
  {
   "cell_type": "code",
   "execution_count": 5,
   "id": "a8465534",
   "metadata": {},
   "outputs": [
    {
     "data": {
      "text/plain": [
       "['END']"
      ]
     },
     "execution_count": 5,
     "metadata": {},
     "output_type": "execute_result"
    }
   ],
   "source": [
    "# 使用默认参数调用时，一开始结果也是对的\n",
    "add_end()"
   ]
  },
  {
   "cell_type": "code",
   "execution_count": 6,
   "id": "d9f38645",
   "metadata": {},
   "outputs": [
    {
     "data": {
      "text/plain": [
       "['END', 'END']"
      ]
     },
     "execution_count": 6,
     "metadata": {},
     "output_type": "execute_result"
    }
   ],
   "source": [
    "# 再次调用 add_end()时，结果就不对了\n",
    "add_end()"
   ]
  },
  {
   "cell_type": "markdown",
   "id": "d15ac594",
   "metadata": {},
   "source": [
    "默认参数L也是一个变量，它指向对象[]。调用函数时如果改变了L的内容，\n",
    "则下次调用时，默认参数的内容就变了，不再是函数定义时的[]了。\n",
    "因此，定义默认参数时一定要指向不变对象。"
   ]
  },
  {
   "cell_type": "code",
   "execution_count": 7,
   "id": "287d2321",
   "metadata": {},
   "outputs": [
    {
     "data": {
      "text/plain": [
       "['END']"
      ]
     },
     "execution_count": 7,
     "metadata": {},
     "output_type": "execute_result"
    }
   ],
   "source": [
    "# 利用None这个不变对象来修改上例\n",
    "def add_end(L=None):\n",
    "    if L is None:\n",
    "        L = []\n",
    "    L.append('END')\n",
    "    return L\n",
    "# 现在无论调用多少次，都不会有问题\n",
    "add_end()"
   ]
  },
  {
   "cell_type": "code",
   "execution_count": 8,
   "id": "e7642042",
   "metadata": {},
   "outputs": [
    {
     "data": {
      "text/plain": [
       "['END']"
      ]
     },
     "execution_count": 8,
     "metadata": {},
     "output_type": "execute_result"
    }
   ],
   "source": [
    "add_end()"
   ]
  },
  {
   "cell_type": "markdown",
   "id": "02cdef1e",
   "metadata": {},
   "source": [
    "## 可变参数"
   ]
  },
  {
   "cell_type": "markdown",
   "id": "64f62305",
   "metadata": {},
   "source": [
    "顾名思义，可变参数就是传入的参数个数可以是任意个。  \n",
    "给定一组数字a，b，c，……，要求定义函数计算a^2+b^2+c^2+……。  \n",
    "由于参数个数不确定，首先想到可以把a，b，c，……作为list或tuple传进来："
   ]
  },
  {
   "cell_type": "code",
   "execution_count": 9,
   "id": "1ef22e5b",
   "metadata": {},
   "outputs": [
    {
     "name": "stdout",
     "output_type": "stream",
     "text": [
      "14\n",
      "84\n"
     ]
    }
   ],
   "source": [
    "def calc(numbers):\n",
    "    sum = 0\n",
    "    for n in numbers:\n",
    "        sum = sum + n * n\n",
    "    return sum\n",
    "print(calc([1, 2, 3]))\n",
    "print(calc((1, 3, 5, 7)))"
   ]
  },
  {
   "cell_type": "markdown",
   "id": "44913693",
   "metadata": {},
   "source": [
    "这个函数调用时要先组装出一个list或tuple，甚是麻烦，于是把函数的参数改为可变参数。"
   ]
  },
  {
   "cell_type": "markdown",
   "id": "965e9735",
   "metadata": {},
   "source": [
    "定义可变参数就是在参数前面加一个`*`，在函数内部参数numbers接收到的是一个tuple，  \n",
    "因此函数体代码完全不变，调用该函数时可以传入任意数目的参数，包括0个。"
   ]
  },
  {
   "cell_type": "code",
   "execution_count": 10,
   "id": "fb4ab0ab",
   "metadata": {},
   "outputs": [
    {
     "name": "stdout",
     "output_type": "stream",
     "text": [
      "5\n",
      "0\n"
     ]
    }
   ],
   "source": [
    "def calc(*numbers):\n",
    "    sum = 0\n",
    "    for n in numbers:\n",
    "        sum = sum + n * n\n",
    "    return sum\n",
    "print(calc(1, 2))\n",
    "print(calc())"
   ]
  },
  {
   "cell_type": "code",
   "execution_count": 11,
   "id": "6fcca3f5",
   "metadata": {},
   "outputs": [
    {
     "data": {
      "text/plain": [
       "14"
      ]
     },
     "execution_count": 11,
     "metadata": {},
     "output_type": "execute_result"
    }
   ],
   "source": [
    "# 假设已经有了一个list或tuple，要调用一个可变参数\n",
    "nums = [1, 2, 3]\n",
    "calc(nums[0], nums[1], nums[2])"
   ]
  },
  {
   "cell_type": "markdown",
   "id": "6028a873",
   "metadata": {},
   "source": [
    "上面这种写法可行但繁琐，可以直接在list或tuple前面加一个`*`，把它的元素变成可变参数传进去："
   ]
  },
  {
   "cell_type": "code",
   "execution_count": 12,
   "id": "89cf8d3d",
   "metadata": {},
   "outputs": [
    {
     "data": {
      "text/plain": [
       "14"
      ]
     },
     "execution_count": 12,
     "metadata": {},
     "output_type": "execute_result"
    }
   ],
   "source": [
    "nums = [1, 2, 3]\n",
    "calc(*nums)"
   ]
  },
  {
   "cell_type": "markdown",
   "id": "afd13ef6",
   "metadata": {},
   "source": [
    "## 关键字参数"
   ]
  },
  {
   "cell_type": "markdown",
   "id": "535bc98e",
   "metadata": {},
   "source": [
    "可变参数允许传入任意个参数，调用时将自动组装为一个tuple；  \n",
    "而关键字参数允许传入任意个含参数名的参数，在函数内部自动组装为一个dict。"
   ]
  },
  {
   "cell_type": "code",
   "execution_count": 13,
   "id": "7fbd52c5",
   "metadata": {},
   "outputs": [
    {
     "name": "stdout",
     "output_type": "stream",
     "text": [
      "name: Michael age: 30 other: {}\n",
      "name: Adam age: 45 other: {'gender': 'M', 'job': 'Engineer'}\n"
     ]
    }
   ],
   "source": [
    "# 函数除了必选参数name和age外，还接受关键字参数kw\n",
    "def person(name, age, **kw):\n",
    "    print('name:', name, 'age:', age, 'other:', kw)\n",
    "# 调用该函数时，可以只传入必选参数\n",
    "person('Michael', 30)\n",
    "# 也可以传入任意个数的关键字参数\n",
    "person('Adam', 45, gender='M', job='Engineer')"
   ]
  },
  {
   "cell_type": "markdown",
   "id": "11b9bb2d",
   "metadata": {},
   "source": [
    "关键字参数可以扩展函数功能，person函数首先保证能接收到name和age这两个参数，  \n",
    "但如果调用者愿意提供更多的参数，函数同样也能收到。  \n",
    "假定一个用户注册的函数，除用户名和年龄必填外，其他都是可选项，利用关键字参数就能满足这类需求。"
   ]
  },
  {
   "cell_type": "code",
   "execution_count": 14,
   "id": "28ccbbf1",
   "metadata": {},
   "outputs": [
    {
     "name": "stdout",
     "output_type": "stream",
     "text": [
      "name: Jack age: 24 other: {'city': 'Beijing', 'job': 'Engineer'}\n"
     ]
    }
   ],
   "source": [
    "# 和可变参数类似，可以将已有dict转换为关键字参数传进去\n",
    "extra = {'city': 'Beijing', 'job': 'Engineer'}\n",
    "person('Jack', 24, city=extra['city'], job=extra['job'])"
   ]
  },
  {
   "cell_type": "code",
   "execution_count": 15,
   "id": "3165d8b1",
   "metadata": {},
   "outputs": [
    {
     "name": "stdout",
     "output_type": "stream",
     "text": [
      "name: Jack age: 24 other: {'city': 'Beijing', 'job': 'Engineer'}\n"
     ]
    }
   ],
   "source": [
    "# **extra表示把extra这个dict的所有key-value用关键字参数传入到kw参数\n",
    "# 注意kw获得的dict只是extra的一份拷贝，kw的改变不会影响到extra\n",
    "extra = {'city': 'Beijing', 'job': 'Engineer'}\n",
    "person('Jack', 24, **extra)"
   ]
  },
  {
   "cell_type": "markdown",
   "id": "861ceffe",
   "metadata": {},
   "source": [
    "## 命名关键字参数"
   ]
  },
  {
   "cell_type": "markdown",
   "id": "e0bb9f7e",
   "metadata": {},
   "source": [
    "如果要限制关键字参数的名字，就可以使用命名关键字参数，特殊分隔符*后面的参数被视为命名关键字参数。"
   ]
  },
  {
   "cell_type": "code",
   "execution_count": 16,
   "id": "62a189ba",
   "metadata": {},
   "outputs": [
    {
     "name": "stdout",
     "output_type": "stream",
     "text": [
      "Jack 24 Beijing Engineer\n"
     ]
    }
   ],
   "source": [
    "# 只接收city和job作为关键字参数\n",
    "def person(name, age, *, city, job):\n",
    "    print(name, age, city, job)\n",
    "person('Jack', 24, city='Beijing', job='Engineer')"
   ]
  },
  {
   "cell_type": "markdown",
   "id": "bd1c9e77",
   "metadata": {},
   "source": [
    "与位置参数不同，命名关键字参数必须传入参数名，否则将报错。  \n",
    "`>>> person('Jack', 24, 'Beijing', 'Engineer')`  \n",
    "`Traceback (most recent call last):`  \n",
    "  `File \"<stdin>\", line 1, in <module>`  \n",
    "`TypeError: person() takes 2 positional arguments but 4 were given`"
   ]
  },
  {
   "cell_type": "code",
   "execution_count": 17,
   "id": "d611db63",
   "metadata": {},
   "outputs": [
    {
     "name": "stdout",
     "output_type": "stream",
     "text": [
      "Jack 24 Beijing Engineer\n"
     ]
    }
   ],
   "source": [
    "# 命名关键字参数可以有缺省值，从而简化调用\n",
    "# city有默认值，因此调用时可不传入city参数\n",
    "def person(name, age, *, city='Beijing', job):\n",
    "    print(name, age, city, job)\n",
    "person('Jack', 24, job='Engineer')"
   ]
  },
  {
   "cell_type": "markdown",
   "id": "9dc99b00",
   "metadata": {},
   "source": [
    "## 参数组合的顺序"
   ]
  },
  {
   "cell_type": "markdown",
   "id": "106e2dfa",
   "metadata": {},
   "source": [
    "必选参数、默认参数、可变参数、关键字参数和命名关键字参数，除了可变参数无法和命名关键字参数混合，  \n",
    "这五种参数可以组合使用，组合顺序必须是`必选参数、默认参数、可变参数/命名关键字参数、关键字参数`。"
   ]
  },
  {
   "cell_type": "code",
   "execution_count": 18,
   "id": "7b811d49",
   "metadata": {},
   "outputs": [
    {
     "name": "stdout",
     "output_type": "stream",
     "text": [
      "a = 1 b = 2 c = 3 args = ('a', 'b') kw = {'x': 99}\n",
      "a = 1 b = 2 c = 0 d = 99 kw = {'ext': None}\n"
     ]
    }
   ],
   "source": [
    "def f1(a, b, c=0, *args, **kw):\n",
    "    print('a =', a, 'b =', b, 'c =', c, 'args =', args, 'kw =', kw)\n",
    "def f2(a, b, c=0, *, d, **kw):\n",
    "    print('a =', a, 'b =', b, 'c =', c, 'd =', d, 'kw =', kw)\n",
    "# 函数调用时，解释器自动按照参数位置和参数名把对应的参数传进去\n",
    "f1(1, 2, 3, 'a', 'b', x=99)\n",
    "f2(1, 2, d=99, ext=None)"
   ]
  },
  {
   "cell_type": "code",
   "execution_count": 19,
   "id": "70797159",
   "metadata": {},
   "outputs": [
    {
     "name": "stdout",
     "output_type": "stream",
     "text": [
      "a = 1 b = 2 c = 3 args = ('a', 'b') kw = {'x': 99}\n",
      "a = 1 b = 2 c = 0 d = 99 kw = {'ext': None}\n"
     ]
    }
   ],
   "source": [
    "# 通过一个tuple和dict，也可以调用上述函数\n",
    "args = (1, 2, 3, 'a','b')\n",
    "kw = {'x': 99}\n",
    "f1(*args, **kw)\n",
    "args = (1, 2)\n",
    "kw = {'d': 99, 'ext': None}\n",
    "f2(*args, **kw)"
   ]
  },
  {
   "cell_type": "markdown",
   "id": "ead4b6be",
   "metadata": {},
   "source": [
    "由此可见，对于任意函数，都可以通过类似`func(*args, **kw)`的形式调用，无论它的参数是如何定义的。"
   ]
  }
 ],
 "metadata": {
  "kernelspec": {
   "display_name": "Python 3 (ipykernel)",
   "language": "python",
   "name": "python3"
  },
  "language_info": {
   "codemirror_mode": {
    "name": "ipython",
    "version": 3
   },
   "file_extension": ".py",
   "mimetype": "text/x-python",
   "name": "python",
   "nbconvert_exporter": "python",
   "pygments_lexer": "ipython3",
   "version": "3.10.0"
  }
 },
 "nbformat": 4,
 "nbformat_minor": 5
}
