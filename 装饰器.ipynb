{
 "cells": [
  {
   "cell_type": "markdown",
   "id": "41f3b677",
   "metadata": {},
   "source": [
    "# 装饰器"
   ]
  },
  {
   "cell_type": "markdown",
   "id": "fe975066",
   "metadata": {},
   "source": [
    "装饰器（Decorator）本质上是高阶函数，其返回值是函数对象，  \n",
    "它可以让其他函数对象在其内部实现不变动的前提下增加新的功能。  \n",
    "有了装饰器，就可以抽离出许多与函数本身功能无关的代码供复用。"
   ]
  },
  {
   "cell_type": "code",
   "execution_count": null,
   "id": "0885b932",
   "metadata": {},
   "outputs": [],
   "source": [
    "# 先看一个简单的函数\n",
    "def hello():\n",
    "    print('hello world')"
   ]
  },
  {
   "cell_type": "code",
   "execution_count": null,
   "id": "a1ea9753",
   "metadata": {},
   "outputs": [],
   "source": [
    "# 如果想让hello()再实现个其他功能，比如打印当前时间，可以直接在函数体加上相应的代码\n",
    "import datetime\n",
    "def hello():\n",
    "    print('当前时间'，datetime.datetime.now())\n",
    "    print('hello world')"
   ]
  },
  {
   "cell_type": "code",
   "execution_count": 1,
   "id": "2fb1644b",
   "metadata": {},
   "outputs": [
    {
     "name": "stdout",
     "output_type": "stream",
     "text": [
      "当前时间: 2022-04-01 19:00:21.931267\n",
      "hello world\n"
     ]
    }
   ],
   "source": [
    "# 假设大量函数都要增加这个需求，显然不能一个个去改\n",
    "# 为了减少重复代码，可以定义一个专门打印当前时间的函数，打印完时间后再执行真正的业务代码\n",
    "import datetime\n",
    "def print_time(func):\n",
    "    print('当前时间:', datetime.datetime.now())\n",
    "    func()\n",
    "def hello():\n",
    "    print('hello world')\n",
    "print_time(hello)"
   ]
  },
  {
   "cell_type": "markdown",
   "id": "5816e8d1",
   "metadata": {},
   "source": [
    "这样修改后的代码，每次都要传递一个函数给print_time()，这种做法破坏了原有的代码逻辑结构。  \n",
    "原先的业务逻辑中只需调用hello()，而现在必须要调用print_time()，因此装饰器是更好的选择："
   ]
  },
  {
   "cell_type": "code",
   "execution_count": 2,
   "id": "274b8ed1",
   "metadata": {},
   "outputs": [
    {
     "name": "stdout",
     "output_type": "stream",
     "text": [
      "当前时间: 2022-04-01 19:00:25.215788\n",
      "hello world\n"
     ]
    }
   ],
   "source": [
    "# @符号是装饰器的语法糖，在定义函数时使用，可以避免再一次赋值的操作\n",
    "def my_decorator(func):\n",
    "    def wrapper():\n",
    "        print('当前时间:', datetime.datetime.now())\n",
    "        func()\n",
    "    return wrapper\n",
    "@my_decorator\n",
    "def hello():\n",
    "    print('hello world')  \n",
    "hello()"
   ]
  },
  {
   "cell_type": "markdown",
   "id": "2502cffc",
   "metadata": {},
   "source": [
    "`@my_decorator`相当于`hello = my_decorator(hello) `，运行函数hello()时的调用过程是：  \n",
    "先执行`hello = my_decorator(hello)`，此时变量hello指向的是装饰器my_decorator()。  \n",
    "my_decorator(func)中传参是hello，返回的wrapper又会调用到原函数hello()。  \n",
    "所以先执行wrapper()里的代码，再才执行hello()里的代码。  "
   ]
  },
  {
   "cell_type": "code",
   "execution_count": 3,
   "id": "1a356820",
   "metadata": {},
   "outputs": [
    {
     "name": "stdout",
     "output_type": "stream",
     "text": [
      "当前时间: 2022-04-01 19:00:28.706392\n",
      "你好，Aiobisio\n"
     ]
    }
   ],
   "source": [
    "# 对于带有参数的函数，直接在对应装饰器的wrapper()上也加上对应参数就可以了\n",
    "def my_decorator(func):\n",
    "    def wrapper(*args, **kwargs):\n",
    "        print('当前时间:', datetime.datetime.now())\n",
    "        func(*args, **kwargs)\n",
    "    return wrapper\n",
    "@my_decorator\n",
    "def hello(name):\n",
    "    print('你好，{}'.format(name))\n",
    "hello('Aiobisio')"
   ]
  },
  {
   "cell_type": "code",
   "execution_count": 4,
   "id": "f2540206",
   "metadata": {},
   "outputs": [
    {
     "name": "stdout",
     "output_type": "stream",
     "text": [
      "wrapper\n"
     ]
    }
   ],
   "source": [
    "# 打印一下上例中hello()的元信息\n",
    "def my_decorator(func):\n",
    "    def wrapper(*args, **kwargs):\n",
    "        print('当前时间:', datetime.datetime.now())\n",
    "        func(*args, **kwargs)\n",
    "    return wrapper\n",
    "@my_decorator\n",
    "def hello(name):\n",
    "    print('你好，{}'.format(name))\n",
    "# hello('Aiobisio')\n",
    "print(hello.__name__)  "
   ]
  },
  {
   "cell_type": "markdown",
   "id": "a59333fe",
   "metadata": {},
   "source": [
    "显而易见，以前那个hello()被wrapper()取代了，函数名等函数属性发生了改变，  \n",
    "考虑到未来可能会用到元函数信息，可以用内置装饰器`@functools.wrap`来保留它。"
   ]
  },
  {
   "cell_type": "code",
   "execution_count": 5,
   "id": "2abbdb54",
   "metadata": {},
   "outputs": [
    {
     "name": "stdout",
     "output_type": "stream",
     "text": [
      "hello\n"
     ]
    }
   ],
   "source": [
    "import functools\n",
    "def my_decorator(func):\n",
    "    @functools.wraps(func)\n",
    "    def wrapper(*args, **kwargs):\n",
    "        print('当前时间:', datetime.datetime.now())\n",
    "        func(*args, **kwargs)\n",
    "    return wrapper\n",
    "@my_decorator\n",
    "def hello(name):\n",
    "    print('你好，{}'.format(name))\n",
    "# hello('Aiobisio')\n",
    "print(hello.__name__)"
   ]
  },
  {
   "cell_type": "code",
   "execution_count": 6,
   "id": "c03f4e0b",
   "metadata": {},
   "outputs": [
    {
     "name": "stdout",
     "output_type": "stream",
     "text": [
      "当前时间: 2022-04-01 19:00:35.444263\n",
      "你好，Aiobisio\n",
      "你好，Aiobisio\n",
      "你好，Aiobisio\n"
     ]
    }
   ],
   "source": [
    "# 前文所述的装饰器都是接收外来的参数，其实装饰器有自己的参数\n",
    "# 下例是三层嵌套的函数，最外层my_decorator_outer()的参数num控制的是次数\n",
    "def my_decorator_outer(num):\n",
    "    def my_decorator(func):\n",
    "        def wrapper(*args, **kwargs):\n",
    "            print('当前时间:', datetime.datetime.now())\n",
    "            for i in range(num):\n",
    "                func(*args, **kwargs)\n",
    "        return wrapper\n",
    "    return my_decorator\n",
    "@my_decorator_outer(3)\n",
    "def hello(name):\n",
    "    print('你好，{}'.format(name))\n",
    "hello('Aiobisio')"
   ]
  },
  {
   "cell_type": "markdown",
   "id": "1929a5c5",
   "metadata": {},
   "source": [
    "除了函数，类也能实现装饰器的功能，这是由于调用一个类的实例时，会调用到它的`__call__()`方法。"
   ]
  },
  {
   "cell_type": "code",
   "execution_count": 7,
   "id": "fd68a913",
   "metadata": {},
   "outputs": [
    {
     "name": "stdout",
     "output_type": "stream",
     "text": [
      "当前时间: 2022-04-01 19:00:38.337068\n",
      "你好，Aiobisio\n"
     ]
    }
   ],
   "source": [
    "# 除了函数，类也能实现装饰器的功能，这是由于调用一个类的实例时，会调用它的`__call__()`方法\n",
    "class MyDecorator:\n",
    "    def __init__(self, func):\n",
    "        self.func = func\n",
    "    def __call__(self, *args, **kwargs):\n",
    "        print('当前时间:', datetime.datetime.now())\n",
    "        return self.func(*args, **kwargs)\n",
    "@MyDecorator\n",
    "def hello(name):\n",
    "    print('你好，{}'.format(name))\n",
    "hello('Aiobisio')"
   ]
  },
  {
   "cell_type": "code",
   "execution_count": 8,
   "id": "88a2eca3",
   "metadata": {},
   "outputs": [
    {
     "name": "stdout",
     "output_type": "stream",
     "text": [
      "装饰器1，当前时间: 2022-04-01 19:00:41.111862\n",
      "装饰器2，当前时间: 2022-04-01 19:00:41.111862\n",
      "装饰器2，当前时间: 2022-04-01 19:00:41.111862\n",
      "你好，Aiobisio\n"
     ]
    }
   ],
   "source": [
    "# 如果有多个装饰器，把要用的装饰器都加上去就好，执行顺序为从上到下依次执行\n",
    "import functools\n",
    "def my_decorator1(func):\n",
    "    @functools.wraps(func)\n",
    "    def wrapper(*args, **kwargs):\n",
    "        print('装饰器1，当前时间:', datetime.datetime.now())\n",
    "        func(*args, **kwargs)\n",
    "    return wrapper\n",
    "def my_decorator2(func):\n",
    "    @functools.wraps(func)\n",
    "    def wrapper(*args, **kwargs):\n",
    "        print('装饰器2，当前时间:', datetime.datetime.now())\n",
    "        func(*args, **kwargs)\n",
    "    return wrapper\n",
    "def my_decorator3(func):\n",
    "    @functools.wraps(func)\n",
    "    def wrapper(*args, **kwargs):\n",
    "        print('装饰器3，当前时间:', datetime.datetime.now())\n",
    "        func(*args, **kwargs)\n",
    "    return wrapper\n",
    "@my_decorator1\n",
    "@my_decorator2\n",
    "@my_decorator2\n",
    "def hello(name):\n",
    "    print('你好，{}'.format(name))\n",
    "hello('Aiobisio')"
   ]
  }
 ],
 "metadata": {
  "kernelspec": {
   "display_name": "Python 3 (ipykernel)",
   "language": "python",
   "name": "python3"
  },
  "language_info": {
   "codemirror_mode": {
    "name": "ipython",
    "version": 3
   },
   "file_extension": ".py",
   "mimetype": "text/x-python",
   "name": "python",
   "nbconvert_exporter": "python",
   "pygments_lexer": "ipython3",
   "version": "3.10.0"
  }
 },
 "nbformat": 4,
 "nbformat_minor": 5
}
