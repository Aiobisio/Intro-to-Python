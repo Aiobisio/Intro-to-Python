{
 "cells": [
  {
   "cell_type": "markdown",
   "id": "962386be",
   "metadata": {
    "pycharm": {
     "name": "#%% md\n"
    }
   },
   "source": [
    "# 字符串方法"
   ]
  },
  {
   "cell_type": "markdown",
   "id": "6fd3ee95",
   "metadata": {
    "pycharm": {
     "name": "#%% md\n"
    }
   },
   "source": [
    "对于单个字符，`ord()`获取字符的整数表示，`chr()`把编码转换为对应的字符："
   ]
  },
  {
   "cell_type": "code",
   "execution_count": 1,
   "id": "52b19996",
   "metadata": {
    "pycharm": {
     "name": "#%%\n"
    }
   },
   "outputs": [
    {
     "data": {
      "text/plain": [
       "20013"
      ]
     },
     "execution_count": 1,
     "metadata": {},
     "output_type": "execute_result"
    }
   ],
   "source": [
    "ord('中')"
   ]
  },
  {
   "cell_type": "code",
   "execution_count": 2,
   "id": "cde002b0",
   "metadata": {
    "pycharm": {
     "name": "#%%\n"
    }
   },
   "outputs": [
    {
     "data": {
      "text/plain": [
       "'中'"
      ]
     },
     "execution_count": 2,
     "metadata": {},
     "output_type": "execute_result"
    }
   ],
   "source": [
    "chr(20013)"
   ]
  },
  {
   "cell_type": "code",
   "execution_count": 3,
   "id": "51b60773",
   "metadata": {
    "pycharm": {
     "name": "#%%\n"
    }
   },
   "outputs": [
    {
     "data": {
      "text/plain": [
       "'中文'"
      ]
     },
     "execution_count": 3,
     "metadata": {},
     "output_type": "execute_result"
    }
   ],
   "source": [
    "# 如果知道字符的整数编码，还可以用十六进制写str\n",
    "'\\u4e2d\\u6587'"
   ]
  },
  {
   "cell_type": "markdown",
   "id": "73cb1be3",
   "metadata": {
    "pycharm": {
     "name": "#%% md\n"
    }
   },
   "source": [
    "## 字符串拼接"
   ]
  },
  {
   "cell_type": "markdown",
   "id": "0e9b24bf",
   "metadata": {
    "pycharm": {
     "name": "#%% md\n"
    }
   },
   "source": [
    "Python中拼接（连接）字符串可以直接将两个字符串紧挨着写在一起，具体格式为`strname = 'str1' 'str2'`，  \n",
    "其中strname是拼接后的字符串变量名，str1和str2是要拼接的字符串内容。"
   ]
  },
  {
   "cell_type": "code",
   "execution_count": 4,
   "id": "4b71f7c3",
   "metadata": {
    "pycharm": {
     "name": "#%%\n"
    }
   },
   "outputs": [
    {
     "name": "stdout",
     "output_type": "stream",
     "text": [
      "优质的\"\"Python教程\n"
     ]
    }
   ],
   "source": [
    "str0 = '优质的''Python教程'\n",
    "print(str0)"
   ]
  },
  {
   "cell_type": "markdown",
   "id": "b1919603",
   "metadata": {
    "pycharm": {
     "name": "#%% md\n"
    }
   },
   "source": [
    "这种写法只能拼接字符串常量，变量得借助`+`运算符来拼接，即`strname = str1 + str2`。  \n",
    "当然，+运算符也能拼接字符串常量。"
   ]
  },
  {
   "cell_type": "code",
   "execution_count": 5,
   "id": "a453bdc0",
   "metadata": {
    "pycharm": {
     "name": "#%%\n"
    }
   },
   "outputs": [
    {
     "name": "stdout",
     "output_type": "stream",
     "text": [
      "微软中国的官网是：https://www.microsoft.com/zh-cn/\n"
     ]
    }
   ],
   "source": [
    "name = '微软中国'\n",
    "url = 'https://www.microsoft.com/zh-cn/'\n",
    "info = name + '的官网是：' + url\n",
    "print(info)"
   ]
  },
  {
   "cell_type": "markdown",
   "id": "6f73560e",
   "metadata": {
    "pycharm": {
     "name": "#%% md\n"
    }
   },
   "source": [
    "注意Python不允许直接拼接数字和字符串，可以先借助`str()`函数和`repr()`函数将数字转换为字符串："
   ]
  },
  {
   "cell_type": "code",
   "execution_count": 6,
   "id": "cf192b2b",
   "metadata": {
    "pycharm": {
     "name": "#%%\n"
    }
   },
   "outputs": [
    {
     "name": "stdout",
     "output_type": "stream",
     "text": [
      "C语言中文网已经8岁了，共发布了30套教程。\n"
     ]
    }
   ],
   "source": [
    "name = 'C语言中文网'\n",
    "age = 8\n",
    "course = 30\n",
    "info = name + '已经' + str(age) + '岁了，共发布了' + repr(course) + '套教程。'\n",
    "print(info)"
   ]
  },
  {
   "cell_type": "markdown",
   "id": "bf91992a",
   "metadata": {
    "pycharm": {
     "name": "#%% md\n"
    }
   },
   "source": [
    "str()和repr()虽然都可以将数字转换成字符串，但它们之间是有区别的。  \n",
    "str()将数据转换成适合人类阅读的字符串形式；repr()将数据转换成适合解释器阅读的字符串形式（Python表达式形式），  \n",
    "repr()适合在开发和调试阶段使用，但如果没有等价的语法，会发生`SyntaxError`异常。"
   ]
  },
  {
   "cell_type": "markdown",
   "id": "338df38f",
   "metadata": {
    "pycharm": {
     "name": "#%% md\n"
    }
   },
   "source": [
    "## 字符串截取"
   ]
  },
  {
   "cell_type": "markdown",
   "id": "0357ca0e",
   "metadata": {
    "pycharm": {
     "name": "#%% md\n"
    }
   },
   "source": [
    "字符串是由多个字符构成的，字符之间有顺序，这个顺序号就称为索引（index）。  \n",
    "在方括号`[]`中使用索引可访问字符串的字符，格式为`strname[index]`，其中strname是字符串名字，index是索引值。"
   ]
  },
  {
   "cell_type": "markdown",
   "id": "c7c64622",
   "metadata": {
    "pycharm": {
     "name": "#%% md\n"
    }
   },
   "source": [
    "以字符串的左端为起点时，索引是从0开始计数的，第二个字符的索引为1，依次类推；  \n",
    "以字符串的右端为起点时，索引是从-1开始计数的，倒数第二个字符的索引为-2，依次类推。"
   ]
  },
  {
   "cell_type": "code",
   "execution_count": 7,
   "id": "db48da42",
   "metadata": {
    "pycharm": {
     "name": "#%%\n"
    }
   },
   "outputs": [
    {
     "name": "stdout",
     "output_type": "stream",
     "text": [
      "8\n",
      "4\n"
     ]
    }
   ],
   "source": [
    "info = '123456789'\n",
    "print(info[7])\n",
    "print(info[-6])"
   ]
  },
  {
   "cell_type": "markdown",
   "id": "bb077da4",
   "metadata": {
    "pycharm": {
     "name": "#%% md\n"
    }
   },
   "source": [
    "使用[]也可以获取多个字符，也就是一个子串，格式为`strname[start : end : step]`，具体说明如下：  \n",
    "start是要截取的第一个字符所在的索引（截取时包含该字符），不指定则默认为0，也就是从字符串的开头截取；  \n",
    "end是要截取的最后一个字符所在的索引（截取时不包含该字符），不指定则默认为字符串的长度；  \n",
    "从start索引处的字符开始，每step个距离获取一个字符，直至end索引出的字符。step默认值为1，省略不写该值时最后的冒号也可以省略。"
   ]
  },
  {
   "cell_type": "code",
   "execution_count": 8,
   "id": "9b78adcf",
   "metadata": {
    "pycharm": {
     "name": "#%%\n"
    }
   },
   "outputs": [
    {
     "name": "stdout",
     "output_type": "stream",
     "text": [
      "p/.rf\n"
     ]
    }
   ],
   "source": [
    "info = 'https://www.microsoft.com/zh-cn/'\n",
    "# 从索引3开始，每隔4个字符取出一个字符，直到索引22为止\n",
    "print(url[3: 22: 4])"
   ]
  },
  {
   "cell_type": "markdown",
   "id": "4e4e3ab9",
   "metadata": {
    "pycharm": {
     "name": "#%% md\n"
    }
   },
   "source": [
    "## 字符串长度"
   ]
  },
  {
   "cell_type": "markdown",
   "id": "e6ac3262",
   "metadata": {
    "pycharm": {
     "name": "#%% md\n"
    }
   },
   "source": [
    "定义一个字符串，然后用`len()`函数计算该字符串的长度，示例如下："
   ]
  },
  {
   "cell_type": "code",
   "execution_count": 9,
   "id": "c9326b80",
   "metadata": {
    "pycharm": {
     "name": "#%%\n"
    }
   },
   "outputs": [
    {
     "data": {
      "text/plain": [
       "32"
      ]
     },
     "execution_count": 9,
     "metadata": {},
     "output_type": "execute_result"
    }
   ],
   "source": [
    "info = 'https://www.microsoft.com/zh-cn/'\n",
    "len(info)"
   ]
  },
  {
   "cell_type": "markdown",
   "id": "32ba3cb9",
   "metadata": {
    "pycharm": {
     "name": "#%% md\n"
    }
   },
   "source": [
    "实际开发中，除了要获取字符串长度外，有时还要获取字符串的字节数。可以使用`encode()`将字符串进行编码后再获取它的字节数。  \n",
    "Python中不同的字符所占的字节数取决于采用的编码方式，比如汉字在GBK/GB2312编码中占2个字节，而在UTF-8编码中一般占3个字节。  "
   ]
  },
  {
   "cell_type": "code",
   "execution_count": 10,
   "id": "b24b56bc",
   "metadata": {
    "pycharm": {
     "name": "#%%\n"
    }
   },
   "outputs": [
    {
     "data": {
      "text/plain": [
       "27"
      ]
     },
     "execution_count": 10,
     "metadata": {},
     "output_type": "execute_result"
    }
   ],
   "source": [
    "str1 = '人生苦短，我用Python'\n",
    "len(str1.encode())"
   ]
  },
  {
   "cell_type": "code",
   "execution_count": 11,
   "id": "341ae053",
   "metadata": {
    "pycharm": {
     "name": "#%%\n"
    }
   },
   "outputs": [
    {
     "data": {
      "text/plain": [
       "20"
      ]
     },
     "execution_count": 11,
     "metadata": {},
     "output_type": "execute_result"
    }
   ],
   "source": [
    "str2 = '人生苦短，我用Python'\n",
    "len(str2.encode('gbk'))"
   ]
  },
  {
   "cell_type": "markdown",
   "id": "0edc312f",
   "metadata": {
    "pycharm": {
     "name": "#%% md\n"
    }
   },
   "source": [
    "## 大小写转换"
   ]
  },
  {
   "cell_type": "markdown",
   "id": "0c07abc7",
   "metadata": {
    "pycharm": {
     "name": "#%% md\n"
    }
   },
   "source": [
    "`title()`用于将字符串中每个单词的首字母转为大写，其他字母转为小写；  \n",
    "`lower()`用于将字符串中的所有大写字母转换为小写字母；  \n",
    "`upper()`用于将字符串中的所有小写字母转换为大写字母。  \n",
    "以上三个函数都会返回转换后的新字符串，但是不会修改原字符串。"
   ]
  },
  {
   "cell_type": "code",
   "execution_count": 12,
   "id": "25017495",
   "metadata": {
    "pycharm": {
     "name": "#%%\n"
    }
   },
   "outputs": [
    {
     "name": "stdout",
     "output_type": "stream",
     "text": [
      "I Love Python\n",
      "i love python\n",
      "I LOVE PYTHON\n",
      "I LOve pyTHon\n"
     ]
    }
   ],
   "source": [
    "str3 = 'I LOve pyTHon'\n",
    "print(str3.title())\n",
    "print(str3.lower())\n",
    "print(str3.upper())\n",
    "print(str3)"
   ]
  },
  {
   "cell_type": "markdown",
   "id": "9abfaf8d",
   "metadata": {
    "pycharm": {
     "name": "#%% md\n"
    }
   },
   "source": [
    "## 删除空格和特殊字符"
   ]
  },
  {
   "cell_type": "markdown",
   "id": "307556b0",
   "metadata": {
    "pycharm": {
     "name": "#%% md\n"
    }
   },
   "source": [
    "Python提供了三个函数来删除字符串中多余的空格和特殊字符（指制表符（\\t）、回车符（\\r）、换行符（\\n）等）：  \n",
    "`strip()`可以删除字符串左右两侧的空格或特殊字符；  \n",
    "`lstrip()`可以删除字符串左侧的空格或特殊字符；  \n",
    "`rstrip()`可以删除字符串右侧的空格或特殊字符。"
   ]
  },
  {
   "cell_type": "markdown",
   "id": "09b79e4a",
   "metadata": {
    "pycharm": {
     "name": "#%% md\n"
    }
   },
   "source": [
    "Python的str类型是不可变的（换言之，字符串一旦形成，它所包含的字符序列就不能发生任何改变），  \n",
    "因此这三个函数只会返回字符串经过该删除操作后的副本，并不会修改原字符串。"
   ]
  },
  {
   "cell_type": "code",
   "execution_count": 13,
   "id": "cee3f631",
   "metadata": {
    "pycharm": {
     "name": "#%%\n"
    }
   },
   "outputs": [
    {
     "name": "stdout",
     "output_type": "stream",
     "text": [
      "python.study.net\n",
      "python.study.net\t\n",
      "  python.study.net\n",
      "  python.study.net\t\n"
     ]
    }
   ],
   "source": [
    "str4 = '  python.study.net\\t'\n",
    "print(str4.strip())\n",
    "print(str4.lstrip())\n",
    "print(str4.rstrip())\n",
    "print(str4)"
   ]
  },
  {
   "cell_type": "markdown",
   "id": "c9266976",
   "metadata": {
    "pycharm": {
     "name": "#%% md\n"
    }
   },
   "source": [
    "## 编码转换"
   ]
  },
  {
   "cell_type": "markdown",
   "id": "6f2b9443",
   "metadata": {
    "pycharm": {
     "name": "#%% md\n"
    }
   },
   "source": [
    "Python3默认采用UTF-8编码，有两种常用的字符串类型，分别为str和bytes类型，  \n",
    "其中str用来表示Unicode字符，bytes用来表示二进制数据，二者用`encode()`和`decode()`进行转换。"
   ]
  },
  {
   "cell_type": "markdown",
   "id": "23c69bec",
   "metadata": {
    "pycharm": {
     "name": "#%% md\n"
    }
   },
   "source": [
    "encode()用于将str类型转换成bytes类型，这个过程也称为编码；    \n",
    "decode()用于将bytes类型转换为str类型，这个过程也称为解码。  \n",
    "使用encode()编码不会修改原字符串。  \n",
    "如果编码时采用的不是默认的UTF-8编码，则解码时要选择和编码时一样的格式，否则会抛出异常。"
   ]
  },
  {
   "cell_type": "code",
   "execution_count": null,
   "id": "96312c5a",
   "metadata": {
    "pycharm": {
     "name": "#%%\n"
    }
   },
   "outputs": [],
   "source": [
    "# 以下格式中用[]括起来的参数为可选参数\n",
    "'''\n",
    "第一个可选参数指定采用的字符编码，不写则默认采用UTF-8编码\n",
    "第二个可选参数指定错误处理方式，其可选择值包括：\n",
    "strict（遇到非法字符就抛出异常）、ignore（忽略非法字符）、\n",
    "replace（用？替换非法字符）、xmlcharrefreplace（使用xml的字符引用）。\n",
    "不写则该参数取默认值strict。\n",
    "只使用第一个参数时，可以省略'encoding='，直接写编码方式即可。\n",
    "'''\n",
    "str.encode([encoding='utf-8'][,errors='strict'])\n",
    "bytes.decode([encoding='utf-8'][,errors='strict'])"
   ]
  },
  {
   "cell_type": "code",
   "execution_count": 14,
   "id": "22adcee3",
   "metadata": {
    "pycharm": {
     "name": "#%%\n"
    }
   },
   "outputs": [
    {
     "name": "stdout",
     "output_type": "stream",
     "text": [
      "b'\\xd7\\xd4\\xd3\\xc9\\xc9\\xfa\\xb3\\xa4'\n",
      "自由生长\n"
     ]
    }
   ],
   "source": [
    "str5 = '自由生长'\n",
    "bytes0 = str5.encode('GBK')\n",
    "print(bytes0)\n",
    "print(bytes0.decode('GBK'))"
   ]
  },
  {
   "cell_type": "markdown",
   "id": "9ddfbc6f",
   "metadata": {
    "pycharm": {
     "name": "#%% md\n"
    }
   },
   "source": [
    "## 学会查询"
   ]
  },
  {
   "cell_type": "markdown",
   "id": "c9edc65f",
   "metadata": {
    "pycharm": {
     "name": "#%% md\n"
    }
   },
   "source": [
    "字符串相关的函数和方法远不止以上这些，例如格式化字符串函数`format()`。  \n",
    "可以用`dir()`函数列出某个类或某个模块中的全部内容，包括变量、函数、方法和类等；  \n",
    "可以用`help()`函数查看某个函数或者模块的帮助文档。"
   ]
  },
  {
   "cell_type": "code",
   "execution_count": null,
   "id": "ce0fbe63",
   "metadata": {
    "pycharm": {
     "name": "#%%\n"
    }
   },
   "outputs": [],
   "source": [
    "# obj表示要查看的对象，不写obj则dir()会列出当前范围内的全部内容。\n",
    "dir(obj)\n",
    "# obj表示要查看的对象，不写obj则help()会进入帮助子程序。\n",
    "help(obj)"
   ]
  },
  {
   "cell_type": "code",
   "execution_count": 15,
   "id": "e0277c81",
   "metadata": {
    "pycharm": {
     "name": "#%%\n"
    }
   },
   "outputs": [
    {
     "data": {
      "text/plain": [
       "['__add__',\n",
       " '__class__',\n",
       " '__contains__',\n",
       " '__delattr__',\n",
       " '__dir__',\n",
       " '__doc__',\n",
       " '__eq__',\n",
       " '__format__',\n",
       " '__ge__',\n",
       " '__getattribute__',\n",
       " '__getitem__',\n",
       " '__getnewargs__',\n",
       " '__gt__',\n",
       " '__hash__',\n",
       " '__init__',\n",
       " '__init_subclass__',\n",
       " '__iter__',\n",
       " '__le__',\n",
       " '__len__',\n",
       " '__lt__',\n",
       " '__mod__',\n",
       " '__mul__',\n",
       " '__ne__',\n",
       " '__new__',\n",
       " '__reduce__',\n",
       " '__reduce_ex__',\n",
       " '__repr__',\n",
       " '__rmod__',\n",
       " '__rmul__',\n",
       " '__setattr__',\n",
       " '__sizeof__',\n",
       " '__str__',\n",
       " '__subclasshook__',\n",
       " 'capitalize',\n",
       " 'casefold',\n",
       " 'center',\n",
       " 'count',\n",
       " 'encode',\n",
       " 'endswith',\n",
       " 'expandtabs',\n",
       " 'find',\n",
       " 'format',\n",
       " 'format_map',\n",
       " 'index',\n",
       " 'isalnum',\n",
       " 'isalpha',\n",
       " 'isascii',\n",
       " 'isdecimal',\n",
       " 'isdigit',\n",
       " 'isidentifier',\n",
       " 'islower',\n",
       " 'isnumeric',\n",
       " 'isprintable',\n",
       " 'isspace',\n",
       " 'istitle',\n",
       " 'isupper',\n",
       " 'join',\n",
       " 'ljust',\n",
       " 'lower',\n",
       " 'lstrip',\n",
       " 'maketrans',\n",
       " 'partition',\n",
       " 'removeprefix',\n",
       " 'removesuffix',\n",
       " 'replace',\n",
       " 'rfind',\n",
       " 'rindex',\n",
       " 'rjust',\n",
       " 'rpartition',\n",
       " 'rsplit',\n",
       " 'rstrip',\n",
       " 'split',\n",
       " 'splitlines',\n",
       " 'startswith',\n",
       " 'strip',\n",
       " 'swapcase',\n",
       " 'title',\n",
       " 'translate',\n",
       " 'upper',\n",
       " 'zfill']"
      ]
     },
     "execution_count": 15,
     "metadata": {},
     "output_type": "execute_result"
    }
   ],
   "source": [
    "# 查看str类型支持的所有函数和方法\n",
    "dir(str)"
   ]
  },
  {
   "cell_type": "code",
   "execution_count": 16,
   "id": "6d5e71c9",
   "metadata": {
    "pycharm": {
     "name": "#%%\n"
    }
   },
   "outputs": [
    {
     "name": "stdout",
     "output_type": "stream",
     "text": [
      "Help on method_descriptor:\n",
      "\n",
      "format(...)\n",
      "    S.format(*args, **kwargs) -> str\n",
      "    \n",
      "    Return a formatted version of S, using substitutions from args and kwargs.\n",
      "    The substitutions are identified by braces ('{' and '}').\n",
      "\n"
     ]
    }
   ],
   "source": [
    "# 查看格式化字符串函数str.format()的用法\n",
    "help(str.format)"
   ]
  }
 ],
 "metadata": {
  "kernelspec": {
   "display_name": "Python 3 (ipykernel)",
   "language": "python",
   "name": "python3"
  },
  "language_info": {
   "codemirror_mode": {
    "name": "ipython",
    "version": 3
   },
   "file_extension": ".py",
   "mimetype": "text/x-python",
   "name": "python",
   "nbconvert_exporter": "python",
   "pygments_lexer": "ipython3",
   "version": "3.9.12"
  }
 },
 "nbformat": 4,
 "nbformat_minor": 5
}