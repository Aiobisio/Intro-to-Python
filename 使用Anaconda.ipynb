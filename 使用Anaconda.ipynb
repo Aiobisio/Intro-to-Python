{
 "cells": [
  {
   "cell_type": "markdown",
   "metadata": {},
   "source": [
    "# 使用Anaconda"
   ]
  },
  {
   "cell_type": "markdown",
   "metadata": {},
   "source": [
    "[Anaconda](http://www.continuum.io/downloads)是一个很好用的Python IDE，它集成了很多科学计算需要使用的第三方工具包。"
   ]
  },
  {
   "cell_type": "markdown",
   "metadata": {},
   "source": [
    "安装好Anaconda后，在命令行下输入`conda list`可以查看已安装的Python第三方工具包。  \n",
    "第一次安装好Anaconda后，可以在命令行输入以下命令使Anaconda保持最新：  \n",
    "`conda update conda`    \n",
    "`conda update anaconda`    "
   ]
  },
  {
   "cell_type": "markdown",
   "metadata": {},
   "source": [
    "conda是一种强大的工具，具体用法可以参照它的[文档](http://conda.pydata.org/docs/)，\n",
    "也可以通过它的[cheat sheet](http://conda.pydata.org/docs/_downloads/conda-cheatsheet.pdf)来快速查看用法。\n",
    "\n",
    "可以使用它来安装，更新，卸载第三方的python工具包：  \n",
    "`conda install <some package>`  \n",
    "`conda update <some package>`  \n",
    "`conda remove <some package>`  \n",
    "\n",
    "在安装或更新时可以指定安装的版本号，例如需要使用numpy 1.9.3：  \n",
    "`conda install numpy=1.9.3`  \n",
    "`conda update numpy=1.9.3`  \n",
    "\n",
    "查看conda的信息：`conda info`"
   ]
  },
  {
   "cell_type": "markdown",
   "metadata": {},
   "source": [
    "conda可以产生一个自定义的环境，假设在安装的是Python 2.7的情况下想使用Python 3.9，  \n",
    "只需要在命令行下使用conda产生一个新的环境：  \n",
    "`conda create -n py39 python=3.9`  \n",
    "这里这个环境被命名为`py39`，可以根据喜好将`py39`改成其他的名字。\n",
    "\n",
    "使用这个环境时，只需要在命令行下输入：\n",
    "``` python\n",
    "activate py39 #(windows)\n",
    "source activate py39 #(linux, mac)\n",
    "```"
   ]
  },
  {
   "cell_type": "markdown",
   "metadata": {},
   "source": [
    "Anaconda默认使用的编辑器是`Spyder`，可以在命令行下输入`spyder`进入这个编辑器。"
   ]
  }
 ],
 "metadata": {
  "kernelspec": {
   "display_name": "Python 3 (ipykernel)",
   "language": "python",
   "name": "python3"
  },
  "language_info": {
   "codemirror_mode": {
    "name": "ipython",
    "version": 3
   },
   "file_extension": ".py",
   "mimetype": "text/x-python",
   "name": "python",
   "nbconvert_exporter": "python",
   "pygments_lexer": "ipython3",
   "version": "3.10.0"
  }
 },
 "nbformat": 4,
 "nbformat_minor": 4
}
