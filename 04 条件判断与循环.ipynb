{
 "cells": [
  {
   "cell_type": "markdown",
   "id": "7d7835a1",
   "metadata": {},
   "source": [
    "# 条件判断与循环"
   ]
  },
  {
   "cell_type": "markdown",
   "id": "c3a7b4c8",
   "metadata": {},
   "source": [
    "## 条件判断"
   ]
  },
  {
   "cell_type": "code",
   "execution_count": 1,
   "id": "0d275f68",
   "metadata": {},
   "outputs": [
    {
     "name": "stdout",
     "output_type": "stream",
     "text": [
      "your age is 20\n",
      "adult\n"
     ]
    }
   ],
   "source": [
    "# 如果if语句判断是True，就执行if的内容（即下方缩进的代码块），否则什么也不做\n",
    "age = 20\n",
    "if age >= 18:\n",
    "    print('your age is', age)\n",
    "    print('adult')"
   ]
  },
  {
   "cell_type": "code",
   "execution_count": 2,
   "id": "95869a5e",
   "metadata": {},
   "outputs": [
    {
     "name": "stdout",
     "output_type": "stream",
     "text": [
      "your age is 3\n",
      "teenager\n"
     ]
    }
   ],
   "source": [
    "# 可以给if添加一个else语句，如果if判断是False，则不执行if的内容，而是执行else的内容\n",
    "age = 3\n",
    "if age >= 18:\n",
    "    print('your age is', age)\n",
    "    print('adult')\n",
    "else:\n",
    "    print('your age is', age)\n",
    "    print('teenager')"
   ]
  },
  {
   "cell_type": "code",
   "execution_count": 3,
   "id": "d0489a75",
   "metadata": {},
   "outputs": [
    {
     "name": "stdout",
     "output_type": "stream",
     "text": [
      "kid\n"
     ]
    }
   ],
   "source": [
    "# elif是else if的缩写，可以用if-elif-else结构做更细致的判断\n",
    "age = 3\n",
    "if age >= 60:\n",
    "    print('old man')\n",
    "elif age >= 18:\n",
    "    print('adult')\n",
    "elif age >= 6:\n",
    "    print('teenager')\n",
    "else:\n",
    "    print('kid')"
   ]
  },
  {
   "cell_type": "code",
   "execution_count": 4,
   "id": "e129fb3a",
   "metadata": {},
   "outputs": [
    {
     "name": "stdout",
     "output_type": "stream",
     "text": [
      "teenager\n"
     ]
    }
   ],
   "source": [
    "# if语句从上往下判断，遇到某个判断是True，就忽略剩下的elif和else不再判断\n",
    "age = 20\n",
    "if age >= 6:\n",
    "    print('teenager')\n",
    "elif age >= 18:\n",
    "    print('adult')\n",
    "else:\n",
    "    print('kid')"
   ]
  },
  {
   "cell_type": "code",
   "execution_count": 5,
   "id": "0c104acd",
   "metadata": {},
   "outputs": [
    {
     "name": "stdout",
     "output_type": "stream",
     "text": [
      "你好\n"
     ]
    }
   ],
   "source": [
    "# if后面可以不接条件判断，写成if x:或if not x:\n",
    "# 只要x是非零数值、非空字符串、非空list等，就判断为True，否则为False\n",
    "a = 3 \n",
    "if a:\n",
    "    print('你好')"
   ]
  },
  {
   "cell_type": "code",
   "execution_count": 6,
   "id": "8fd21562",
   "metadata": {},
   "outputs": [
    {
     "name": "stdout",
     "output_type": "stream",
     "text": [
      "你好\n"
     ]
    }
   ],
   "source": [
    "# if not x:与if x:恰相反\n",
    "a = 0\n",
    "if not a:\n",
    "    print('你好')"
   ]
  },
  {
   "cell_type": "code",
   "execution_count": null,
   "id": "2e350b63",
   "metadata": {},
   "outputs": [],
   "source": [
    "# 用input()读取用户的输入\n",
    "birth = input('birth: ')\n",
    "if birth < 2000:\n",
    "    print('00 前')\n",
    "else:\n",
    "    print('00 后')"
   ]
  },
  {
   "cell_type": "markdown",
   "id": "0eb34bc9",
   "metadata": {},
   "source": [
    "上面这段代码输入1982会报错，这是因为`input()`返回的类型是str，str不能直接和整数比较，要先用`int()`把str转换成整型。"
   ]
  },
  {
   "cell_type": "code",
   "execution_count": 7,
   "id": "427154ab",
   "metadata": {},
   "outputs": [
    {
     "name": "stdin",
     "output_type": "stream",
     "text": [
      "birth:  1982\n"
     ]
    },
    {
     "name": "stdout",
     "output_type": "stream",
     "text": [
      "00 前\n"
     ]
    }
   ],
   "source": [
    "s = input('birth: ')\n",
    "# int()用于将非int型数字（比如这里是字符串）转换为int型\n",
    "birth = int(s) \n",
    "if birth < 2000:\n",
    "    print('00 前')\n",
    "else:\n",
    "    print('00 后')"
   ]
  },
  {
   "cell_type": "markdown",
   "id": "e22102fc",
   "metadata": {},
   "source": [
    "## 两种循环类型"
   ]
  },
  {
   "cell_type": "markdown",
   "id": "c569ccc1",
   "metadata": {},
   "source": [
    "`for...in...`循环用于迭代序列（列表、元组、字典、集合、字符串或其他序列），  \n",
    "for循环会依次将序列中迭代出的元素代入变量，并执行缩进块。"
   ]
  },
  {
   "cell_type": "code",
   "execution_count": 8,
   "id": "ccbd0974",
   "metadata": {},
   "outputs": [
    {
     "name": "stdout",
     "output_type": "stream",
     "text": [
      "b\n",
      "a\n",
      "n\n",
      "a\n",
      "n\n",
      "a\n",
      "exit the loop\n"
     ]
    }
   ],
   "source": [
    "for x in 'banana':\n",
    "    print(x)\n",
    "else: # for循环和while循环中可以用else关键字指定循环结束时要执行的代码块\n",
    "    print('exit the loop')"
   ]
  },
  {
   "cell_type": "code",
   "execution_count": 9,
   "id": "21cc2855",
   "metadata": {},
   "outputs": [
    {
     "name": "stdout",
     "output_type": "stream",
     "text": [
      "5050\n"
     ]
    }
   ],
   "source": [
    "'''\n",
    "假设我们想计算1-100的所有整数之和，可以用一个sum变量做累加。\n",
    "range()函数可以生成整数序列，比如range(101)生成的序列就是从0开始小于101的整数。\n",
    "range()默认0为起始值，可以通过添加参数来指定起始值，如range(3, 10)意味着序列为3到9。\n",
    "range()返回的是一个可迭代对象，而不是list类型，如需将其作为列表打印，再用list()转换为list即可。\n",
    "'''\n",
    "sum = 0\n",
    "for x in range(101): \n",
    "    sum = sum + x\n",
    "print(sum)"
   ]
  },
  {
   "cell_type": "code",
   "execution_count": 10,
   "id": "c733539e",
   "metadata": {},
   "outputs": [
    {
     "name": "stdout",
     "output_type": "stream",
     "text": [
      "red apple\n",
      "red banana\n",
      "red cherry\n",
      "big apple\n",
      "big banana\n",
      "big cherry\n",
      "tasty apple\n",
      "tasty banana\n",
      "tasty cherry\n"
     ]
    }
   ],
   "source": [
    "# 嵌套for循环\n",
    "adj = ['red', 'big', 'tasty']\n",
    "fruits = ['apple', 'banana', 'cherry']\n",
    "for x in adj:\n",
    "    for y in fruits:\n",
    "        print(x, y)"
   ]
  },
  {
   "cell_type": "markdown",
   "id": "a64385d6",
   "metadata": {},
   "source": [
    "`while`循环只要条件满足，就执行循环体，条件不满足时退出循环。  \n",
    "while循环需要有索引变量，注意让索引变量自增或自减，否则循环不会停止。"
   ]
  },
  {
   "cell_type": "code",
   "execution_count": 11,
   "id": "94a8236a",
   "metadata": {},
   "outputs": [
    {
     "name": "stdout",
     "output_type": "stream",
     "text": [
      "1\n",
      "3\n",
      "5\n",
      "7\n"
     ]
    }
   ],
   "source": [
    "i = 1\n",
    "while i < 8:\n",
    "    print(i)\n",
    "    i += 2"
   ]
  },
  {
   "cell_type": "markdown",
   "id": "9ea3f022",
   "metadata": {},
   "source": [
    "## break语句"
   ]
  },
  {
   "cell_type": "code",
   "execution_count": 12,
   "id": "5397e392",
   "metadata": {},
   "outputs": [
    {
     "name": "stdout",
     "output_type": "stream",
     "text": [
      "apple\n",
      "banana\n"
     ]
    }
   ],
   "source": [
    "# 使用break语句可以提前退出循环\n",
    "fruits = [\"apple\", \"banana\", \"cherry\"]\n",
    "for x in fruits:\n",
    "    print(x) \n",
    "    if x == \"banana\":\n",
    "        break"
   ]
  },
  {
   "cell_type": "code",
   "execution_count": 13,
   "id": "cc074103",
   "metadata": {},
   "outputs": [
    {
     "name": "stdout",
     "output_type": "stream",
     "text": [
      "1\n",
      "2\n",
      "3\n"
     ]
    }
   ],
   "source": [
    "# 即使while条件为真，break也可以停止循环\n",
    "i = 1\n",
    "while i < 7:\n",
    "    print(i)\n",
    "    if i == 3:\n",
    "        break\n",
    "    i += 1"
   ]
  },
  {
   "cell_type": "markdown",
   "id": "ff93e454",
   "metadata": {},
   "source": [
    "## continue语句"
   ]
  },
  {
   "cell_type": "code",
   "execution_count": 14,
   "id": "5907b7ee",
   "metadata": {},
   "outputs": [
    {
     "name": "stdout",
     "output_type": "stream",
     "text": [
      "apple\n",
      "cherry\n"
     ]
    }
   ],
   "source": [
    "# 使用continue语句可以提前停止当次迭代，直接进入下一次\n",
    "fruits = [\"apple\", \"banana\", \"cherry\"]\n",
    "for x in fruits:\n",
    "    if x == \"banana\":\n",
    "        continue\n",
    "    print(x)"
   ]
  },
  {
   "cell_type": "code",
   "execution_count": 15,
   "id": "b238f6e0",
   "metadata": {},
   "outputs": [
    {
     "name": "stdout",
     "output_type": "stream",
     "text": [
      "1\n",
      "2\n",
      "4\n",
      "5\n",
      "6\n",
      "7\n"
     ]
    }
   ],
   "source": [
    "i = 0\n",
    "while i < 7:\n",
    "    i += 1 \n",
    "    if i == 3:\n",
    "        continue\n",
    "    print(i)"
   ]
  }
 ],
 "metadata": {
  "kernelspec": {
   "display_name": "Python 3 (ipykernel)",
   "language": "python",
   "name": "python3"
  },
  "language_info": {
   "codemirror_mode": {
    "name": "ipython",
    "version": 3
   },
   "file_extension": ".py",
   "mimetype": "text/x-python",
   "name": "python",
   "nbconvert_exporter": "python",
   "pygments_lexer": "ipython3",
   "version": "3.10.0"
  }
 },
 "nbformat": 4,
 "nbformat_minor": 5
}
