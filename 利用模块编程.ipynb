{
 "cells": [
  {
   "cell_type": "markdown",
   "id": "ee690c63",
   "metadata": {},
   "source": [
    "# 利用模块编程"
   ]
  },
  {
   "cell_type": "markdown",
   "id": "1842e707",
   "metadata": {},
   "source": [
    "## 模块和包"
   ]
  },
  {
   "cell_type": "markdown",
   "id": "04e36215",
   "metadata": {},
   "source": [
    "在Python中，一个.py文件就称之为一个模块（Module），使用模块大大提高了代码的可维护性。    \n",
    "当一个模块编写完毕，就可以被其他地方引用。编写程序时经常会引用其他模块，包括Python内置的模块和第三方模块。  \n",
    "使用模块还可以避免函数名和变量名冲突，同名函数和变量可以分别存在不同的模块中，但要注意尽量不与内置函数名冲突。  \n",
    "创建模块时要注意模块名不能和Python自带的模块名冲突，例如自己的模块不可命名为sys.py，否则无法导入python自带的sys模块。"
   ]
  },
  {
   "cell_type": "markdown",
   "id": "6646a9e0",
   "metadata": {},
   "source": [
    "为避免不同的人编写的模块名相同的问题，Python又引入了按目录来组织模块的方法，称为包（Package）。  \n",
    "例如，abc.py是名字叫abc的模块，xyz.py是名字叫xyz的模块，  \n",
    "假设我们的abc和xyz这两个模块名与其他模块冲突了，那么可以通过包来组织模块，避免冲突。  \n",
    "具体来说，就是选择一个顶层包名，比如mycompany，将abc.py和xyz.py存在mycompany目录下。  \n",
    "引入包以后，只要顶层包名不与别人冲突，那所有模块都不会与别人冲突。  \n",
    "现在，abc.py和xyz.py的模块名就变成了mycompany.abc和mycompany.xyz。"
   ]
  },
  {
   "cell_type": "markdown",
   "id": "fe504b98",
   "metadata": {},
   "source": [
    "请注意，每一个包目录下面必须有一个`__init__.py`文件，否则Python就把这个目录当成普通目录而非包。  \n",
    "文件`__init__.py`可以为空，也可以包含Python代码，它本身也是一个模块，模块名就是包名。"
   ]
  },
  {
   "cell_type": "markdown",
   "id": "6073b73b",
   "metadata": {},
   "source": [
    "可以建立多级目录的包结构，比如在父亲包mycompany下建立一个子包web，子包web中文件untils.py的模块名就是mycompany.web.untils。  "
   ]
  },
  {
   "cell_type": "markdown",
   "id": "df5796ff",
   "metadata": {},
   "source": [
    "## 使用模块"
   ]
  },
  {
   "cell_type": "markdown",
   "id": "76b1c35f",
   "metadata": {},
   "source": [
    "Python内置有一套很有用的标准库，会随着Python解释器一起安装，例如操作系统接口模块`os`、  \n",
    "与解释器交互的`sys`、处理日期和时间的`datetime`、摘要算法`hashlib`、用于图形界面开发的`Tkinter`  \n",
    "（Tkinter是Python的标准Tk GUI工具包的接口，在Python3中的库名是tkinter，即首字母要小写）。"
   ]
  },
  {
   "cell_type": "markdown",
   "id": "935e69d1",
   "metadata": {},
   "source": [
    "以内建模块`sys`为例，编写一个hello模块。  \n",
    "下面是Python模块的标准文件模板，当然也可以全部删掉不写，但是按标准办事肯定没错。"
   ]
  },
  {
   "cell_type": "code",
   "execution_count": null,
   "id": "a902223a",
   "metadata": {},
   "outputs": [],
   "source": [
    "#!/usr/bin/env python3\n",
    "# -*- coding: utf-8 -*-\n",
    "' a test module '\n",
    "__author__ = 'Aiobisio'"
   ]
  },
  {
   "cell_type": "markdown",
   "id": "c6a8981f",
   "metadata": {},
   "source": [
    "第1行注释可以让这个hello.py文件直接在Unix/Linux/Mac上运行；第2行注释表示.py文件本身使用标准UTF-8编码；  \n",
    "第3行是一个字符串，表示模块的文档注释，任何模块代码的第一个字符串都被视为模块的文档注释；  \n",
    "第4行使用__author__变量把作者写进去。"
   ]
  },
  {
   "cell_type": "markdown",
   "id": "6d1fd718",
   "metadata": {},
   "source": [
    "了解文件模板后，可以开始真正的代码部分了："
   ]
  },
  {
   "cell_type": "code",
   "execution_count": null,
   "id": "3e907697",
   "metadata": {},
   "outputs": [],
   "source": [
    "# 使用sys模块首先要用import语句导入该模块\n",
    "import sys\n",
    "'''\n",
    "导入sys模块后，就有了变量sys指向该模块，利用变量sys可以访问sys模块的所有功能。\n",
    "sys模块有一个argv变量，用list存储了命令行的所有参数。\n",
    "argv至少有一个元素，因为第一个参数永远是该.py文件的名称，\n",
    "例如运行 python hello.py 获得的sys.argv是['hello.py']；\n",
    "而运行 python hello.py Michael 获得的sys.argv是['hello.py', 'Michael]。\n",
    "'''\n",
    "def test():\n",
    "    args = sys.argv\n",
    "    if len(args)==1:\n",
    "        print('Hello, world!')\n",
    "    elif len(args)==2:\n",
    "        print('Hello, %s!' % args[1])\n",
    "    else:\n",
    "        print('Too many arguments!')\n",
    "\n",
    "'''\n",
    "命令行运行hello模块文件时，Python解释器把特殊变量__name__置为__main__，\n",
    "进而能通过下面的if判断;在其他地方导入该hello模块时，if判断则会失败。\n",
    "因此这种if测试可以让模块通过命令行运行时执行一些额外的代码，最常见的就是运行测试。\n",
    "'''\n",
    "if __name__=='__main__':\n",
    "    test()"
   ]
  },
  {
   "cell_type": "markdown",
   "id": "f802360c",
   "metadata": {},
   "source": [
    "用命令行运行hello.py，会打印出'Hello, world!'；  \n",
    "如果启动Python交互环境，再import模块hello，则不打印'Hello, word!'，  \n",
    "这是因为导入时没有执行test()函数，要自行调用hello.test()才能打印出'Hello, word!'。"
   ]
  },
  {
   "cell_type": "markdown",
   "id": "38d7aad2",
   "metadata": {},
   "source": [
    "## 作用域"
   ]
  },
  {
   "cell_type": "markdown",
   "id": "72d1c8c6",
   "metadata": {},
   "source": [
    "正常的函数和变量名是公开的（public），可以被直接引用，比如abc、PI；  \n",
    "特殊变量形如__xxx__，可以被直接引用，但是有特殊用途，因此自设的变量一般不用这种变量名，  \n",
    "比如上例中的__author__和__name__，hello模块定义的文档注释也可以用特殊变量__doc__访问。"
   ]
  },
  {
   "cell_type": "markdown",
   "id": "c00a072e",
   "metadata": {},
   "source": [
    "形如_xxx 和__xxx这样的函数或变量就是非公开的（private），习惯上private函数不应该被直接引用。  "
   ]
  },
  {
   "cell_type": "markdown",
   "id": "4afedd0f",
   "metadata": {},
   "source": [
    "如下示例代码，在模块里公开greeting()函数，而把内部逻辑用private函数隐藏，这样调用greeting()不用关心内部细节，  \n",
    "这是一种非常有用的代码封装和抽象的方法，即外部不需要引用的函数全部定义成private，需要引用的才定义为public。"
   ]
  },
  {
   "cell_type": "code",
   "execution_count": null,
   "id": "f45d5e86",
   "metadata": {},
   "outputs": [],
   "source": [
    "def _private_1(name):\n",
    "    return 'Hello, %s' % name\n",
    "def _private_2(name):\n",
    "    return 'Hi, %s' % name\n",
    "def greeting(name):\n",
    "    if len(name) > 3:\n",
    "        return _private_1(name)\n",
    "    else:\n",
    "        return _private_2(name)"
   ]
  },
  {
   "cell_type": "markdown",
   "id": "a8b0b406",
   "metadata": {},
   "source": [
    "## 安装第三方模块"
   ]
  },
  {
   "cell_type": "markdown",
   "id": "041f2ed4",
   "metadata": {},
   "source": [
    "首先确保已安装包管理工具`pip`，注意Mac或Linux上有可能并存Python3和Python2，因此对应的pip命令是pip3。"
   ]
  },
  {
   "cell_type": "markdown",
   "id": "6e7e3dea",
   "metadata": {},
   "source": [
    "一般来说，第三方库都会在官方仓库[PyPI](pypi.python.org)注册，第三方库名可以在官网或者PyPI上搜索，  \n",
    "然后就可以安装第三方库了，例如安装图像处理工具库`PIL`的兼容版本`pillow`："
   ]
  },
  {
   "cell_type": "code",
   "execution_count": null,
   "id": "130df9d0",
   "metadata": {},
   "outputs": [],
   "source": [
    "pip install pillow\n",
    "# 安装完成后可以导入其中的Image模块\n",
    "from PIL import Image\n",
    "im = Image.open('test.png')\n",
    "print(im.format, im.size, im.mode)"
   ]
  },
  {
   "cell_type": "markdown",
   "id": "2b14de2c",
   "metadata": {},
   "source": [
    "其他常用的第三方库还有`MySQL`的官方驱动`mysql-connector`、用于科学计算的`numPy`、  \n",
    "用于生成文本的模板工具`Jinja2`、搭建独立虚拟环境的多环境管理工具`virtualenv`  \n",
    "（Python3.3版本后可以使用内建模块`venv`代替，但是venv只能使用已安装的Python版本，  \n",
    "不能指定系统不存在的Python环境版本，也不能查看环境列表）。"
   ]
  },
  {
   "cell_type": "markdown",
   "id": "8c408984",
   "metadata": {},
   "source": [
    "## 模块搜索路径"
   ]
  },
  {
   "cell_type": "markdown",
   "id": "37972ff1",
   "metadata": {},
   "source": [
    "试图加载一个模块时，Python会在指定的路径下搜索对应的.py文件，找不到就会报错。  \n",
    "Python解释器默认搜索当前目录、所有内建模块和已安装的第三方模块，搜索路径存放在sys模块的path变量中："
   ]
  },
  {
   "cell_type": "code",
   "execution_count": null,
   "id": "8844ec6d",
   "metadata": {},
   "outputs": [],
   "source": [
    "import sys\n",
    "sys.path"
   ]
  },
  {
   "cell_type": "markdown",
   "id": "8bb12154",
   "metadata": {},
   "source": [
    "如果要添加自己的搜索目录，有两种方法，  \n",
    "一是直接修改sys.path，添加要搜索的目录，这种方法是在运行时修改，运行结束后即失效；"
   ]
  },
  {
   "cell_type": "code",
   "execution_count": null,
   "id": "0971b91c",
   "metadata": {},
   "outputs": [],
   "source": [
    "import sys\n",
    "sys.path.append('/Users/my_py_scripts')"
   ]
  },
  {
   "cell_type": "markdown",
   "id": "f12fd2f7",
   "metadata": {},
   "source": [
    "二是设置环境变量`PYTHONPATH`，该环境变量的内容会被自动添加到模块搜索路径中。设置方式与设置Path环境变量类似。"
   ]
  }
 ],
 "metadata": {
  "kernelspec": {
   "display_name": "Python 3 (ipykernel)",
   "language": "python",
   "name": "python3"
  },
  "language_info": {
   "codemirror_mode": {
    "name": "ipython",
    "version": 3
   },
   "file_extension": ".py",
   "mimetype": "text/x-python",
   "name": "python",
   "nbconvert_exporter": "python",
   "pygments_lexer": "ipython3",
   "version": "3.10.0"
  }
 },
 "nbformat": 4,
 "nbformat_minor": 5
}
